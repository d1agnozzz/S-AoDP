{
 "cells": [
  {
   "cell_type": "markdown",
   "id": "b89600ba",
   "metadata": {},
   "source": [
    "# Лабораторная работа №1\n",
    "## Выполнил студент группы БВТ2003 Митрофанов Алексей Олегович\n",
    "### Задание №1"
   ]
  },
  {
   "cell_type": "code",
   "execution_count": 193,
   "id": "bcbf1dae",
   "metadata": {},
   "outputs": [
    {
     "name": "stdout",
     "output_type": "stream",
     "text": [
      "Hello World!\n"
     ]
    }
   ],
   "source": [
    "print(\"Hello World!\")"
   ]
  },
  {
   "cell_type": "markdown",
   "id": "372b94bf",
   "metadata": {},
   "source": [
    "### Задание №2\n",
    " Написать генератор случайных матриц"
   ]
  },
  {
   "cell_type": "code",
   "execution_count": 194,
   "id": "3372e03b",
   "metadata": {},
   "outputs": [],
   "source": [
    "from random import randint\n",
    "def matrix2str(matrix):\n",
    "    rows = \"\"\n",
    "    for i in range(len(matrix)):\n",
    "        for j in range(len(matrix[i])):\n",
    "            rows += \"\\t\" + str(matrix[i][j])\n",
    "        rows +=  \"\\n\"\n",
    "    return rows\n",
    "\n",
    "\n",
    "def randIntMatrix(m = 50, n = 50, min_limit = -250, max_limit = 1000):\n",
    "    matrix = [[randint(min_limit, max_limit) for i in range(n)] for j in range(m)]\n",
    "    return matrix\n",
    "\n",
    "matrix = randIntMatrix(1000, 1000, -10000, 10000)"
   ]
  },
  {
   "cell_type": "markdown",
   "id": "19c37c52",
   "metadata": {},
   "source": [
    "### Задание №3\n",
    "Реализовать методы сортировки строк числовой матрицы в соответствии с                 \n",
    "заданием. Оценить время работы каждого алгоритма сортировки и сравнить его со                     \n",
    "временем стандартной функции сортировки. Испытания проводить на сгенерированных               \n",
    "матрицах. "
   ]
  },
  {
   "cell_type": "code",
   "execution_count": 195,
   "id": "33684a97",
   "metadata": {},
   "outputs": [],
   "source": [
    "import math\n",
    "import time"
   ]
  },
  {
   "cell_type": "code",
   "execution_count": 196,
   "id": "e208c551",
   "metadata": {},
   "outputs": [],
   "source": [
    "\"\"\" Selection Sort \"\"\"\n",
    "\n",
    "\n",
    "def selectionSort(array):\n",
    "    size = len(array)\n",
    "    for i in range(size):\n",
    "        minInd = i\n",
    "        for j in range(i + 1, size):\n",
    "            if array[j] < array[minInd]:\n",
    "                minInd = j\n",
    "        array[i], array[minInd] = array[minInd], array[i]\n",
    "    return array\n"
   ]
  },
  {
   "cell_type": "code",
   "execution_count": 197,
   "metadata": {},
   "outputs": [],
   "source": [
    "\"\"\" Insertion Sort \"\"\"\n",
    "\n",
    "\n",
    "def insertionSort(array):\n",
    "    size = len(array)\n",
    "\n",
    "    for iter in range(2, size):\n",
    "        currentInd = iter\n",
    "        currentVal = array[iter]\n",
    "        while currentInd > 0 and currentVal < array[currentInd - 1]:\n",
    "            array[currentInd], array[currentInd - 1] = (\n",
    "                array[currentInd - 1],\n",
    "                array[currentInd],\n",
    "            )\n",
    "            currentInd -= 1\n",
    "    return array\n"
   ]
  },
  {
   "cell_type": "code",
   "execution_count": 198,
   "metadata": {},
   "outputs": [],
   "source": [
    "\"\"\"Bubble Sort \"\"\"\n",
    "\n",
    "\n",
    "def bubbleSort(array):\n",
    "    size = len(array)\n",
    "    for iter in range(size):\n",
    "        for i in range(0, size - iter - 1):\n",
    "            if array[i] > array[i + 1]:\n",
    "                array[i], array[i + 1] = array[i + 1], array[i]\n",
    "    return array\n"
   ]
  },
  {
   "cell_type": "code",
   "execution_count": 199,
   "metadata": {},
   "outputs": [],
   "source": [
    "\"\"\" Shell Sort \n",
    "\"\"\"\n",
    "\n",
    "\n",
    "def shellSort(array):\n",
    "    size = len(array)\n",
    "    step = size // 2\n",
    "    while step > 0:\n",
    "        for iter in range(step, size):\n",
    "            currentInd = iter\n",
    "            delta = currentInd - step\n",
    "            while delta >= 0 and array[delta] > array[currentInd]:\n",
    "                array[delta], array[currentInd] = array[currentInd], array[delta]\n",
    "                currentInd = step\n",
    "                delta = currentInd - step\n",
    "        step //= 2\n",
    "    return array\n"
   ]
  },
  {
   "cell_type": "code",
   "execution_count": 200,
   "metadata": {},
   "outputs": [],
   "source": [
    "\"\"\" Quick Sort \"\"\"\n",
    "\n",
    "\n",
    "def quickSort(array):\n",
    "    if len(array) <= 1:\n",
    "        return array\n",
    "\n",
    "    less = []\n",
    "    equal = []\n",
    "    more = []\n",
    "    size = len(array)\n",
    "    pivot = array[size // 2]\n",
    "    for num in array:\n",
    "        if num < pivot:\n",
    "            less.append(num)\n",
    "        elif num == pivot:\n",
    "            equal.append(num)\n",
    "        else:\n",
    "            more.append(num)\n",
    "    less = quickSort(less)\n",
    "    more = quickSort(more)\n",
    "    return less + equal + more\n"
   ]
  },
  {
   "cell_type": "code",
   "execution_count": 201,
   "id": "b0d44057",
   "metadata": {},
   "outputs": [],
   "source": [
    "\"\"\" Heap Sort \"\"\"\n",
    "\n",
    "\n",
    "def heapify(array, length, i):\n",
    "    maxInd = i\n",
    "    l = 2 * i + 1  # left = 2*i + 1\n",
    "    r = 2 * i + 2  # right = 2*i + 2\n",
    "\n",
    "    if l < length and array[maxInd] < array[l]:\n",
    "        maxInd = l\n",
    "    if r < length and array[maxInd] < array[r]:\n",
    "        maxInd = r\n",
    "    if array[maxInd] > array[i]:\n",
    "        #array[i], array[maxInd] = array[maxInd], array[i]\n",
    "        temp = array[i]\n",
    "        array[i] = array[maxInd]\n",
    "        array[maxInd] = temp\n",
    "        heapify(array, length, maxInd)\n",
    "    return array\n",
    "\n",
    "\n",
    "def heapSort(array):\n",
    "    size = len(array)\n",
    "    for i in range(size - 1, -1, -1):\n",
    "        heapify(array, size, i)\n",
    "\n",
    "    for i in range(size - 1, 0, -1):\n",
    "        array[i], array[0] = array[0], array[i]\n",
    "        heapify(array, i, 0)\n",
    "    return array\n"
   ]
  },
  {
   "cell_type": "code",
   "execution_count": 202,
   "id": "03e454af",
   "metadata": {},
   "outputs": [],
   "source": [
    "\"\"\" Tournament Sort \"\"\"\n",
    "\n",
    "\n",
    "def build(array, bracket, level, l, r):\n",
    "    if l == r:\n",
    "        bracket[level] = (array[l], level)\n",
    "    else:\n",
    "        mid = (l + r) // 2\n",
    "        build(array, bracket, 2 * level, l, mid)\n",
    "        build(array, bracket, (2 * level) + 1, mid + 1, r)\n",
    "        if bracket[(2 * level) + 1][0] < bracket[2 * level][0]:\n",
    "            bracket[level] = bracket[(2 * level) + 1]\n",
    "        else:\n",
    "            bracket[level] = bracket[2 * level]\n",
    "\n",
    "\n",
    "def pop(bracket):\n",
    "    result = bracket[1][0]\n",
    "    index = bracket[1][1]\n",
    "    bracket[index] = None\n",
    "    while index > 1:\n",
    "        index = index // 2\n",
    "        if bracket[index * 2] is None:\n",
    "            minimum = bracket[(index * 2) + 1]\n",
    "        elif bracket[(index * 2) + 1] is None:\n",
    "            minimum = bracket[index * 2]\n",
    "        else:\n",
    "            minimum = min(bracket[index * 2], bracket[(index * 2) + 1])\n",
    "        if minimum == bracket[index]:\n",
    "            break\n",
    "        bracket[index] = minimum\n",
    "    return result\n",
    "\n",
    "\n",
    "def tournamentSort(array):\n",
    "    size = len(array)\n",
    "    rang = 2 ** (math.ceil(math.log2(size)) + 1)\n",
    "    bracket = [None] * rang\n",
    "    build(array, bracket, 1, 0, size - 1)\n",
    "    sorted_array = [pop(bracket) for _ in range(size)]\n",
    "    return sorted_array\n"
   ]
  },
  {
   "cell_type": "code",
   "execution_count": 203,
   "id": "2b973bee",
   "metadata": {},
   "outputs": [],
   "source": [
    "results = {}\n",
    "matrixPreviewSize = 3\n",
    "def previewMatrix(matrixPreviewSize, matrix):\n",
    "    for i in range(matrixPreviewSize):\n",
    "        print(matrix[i][:matrixPreviewSize], \" ... \", matrix[i][-matrixPreviewSize:])\n",
    "    print(\"...\")\n",
    "    for i in range(matrixPreviewSize):\n",
    "            print(matrix[-1-i][:matrixPreviewSize], \" ... \", matrix[-1-i][-matrixPreviewSize:])"
   ]
  },
  {
   "cell_type": "code",
   "execution_count": 204,
   "id": "032ece3f",
   "metadata": {},
   "outputs": [
    {
     "name": "stdout",
     "output_type": "stream",
     "text": [
      "Time: 40275683100 seconds\n",
      "Matrix:\n"
     ]
    }
   ],
   "source": [
    "originalMatrix = matrix\n",
    "start = time.perf_counter_ns()\n",
    "for i in range(len(originalMatrix)):\n",
    "        matrix[i] = selectionSort(matrix[i])\n",
    "finish = time.perf_counter_ns() - start\n",
    "results.update(dict(Выбором=finish/1000000))\n",
    "print(f\"Time: {finish} seconds\\nMatrix:\")\n",
    "        \n",
    "matrix = originalMatrix"
   ]
  },
  {
   "cell_type": "code",
   "execution_count": 205,
   "id": "8bcb44d5",
   "metadata": {},
   "outputs": [
    {
     "name": "stdout",
     "output_type": "stream",
     "text": [
      "Time: 194308900 seconds\n",
      "Matrix:\n",
      "[-9943, -9892, -9842]  ...  [9933, 9980, 9998]\n",
      "[-9954, -9942, -9886]  ...  [9920, 9927, 9934]\n",
      "[-9986, -9961, -9956]  ...  [9988, 9993, 10000]\n",
      "...\n",
      "[-9979, -9977, -9964]  ...  [9996, 9996, 9999]\n",
      "[-9981, -9976, -9937]  ...  [9819, 9858, 9948]\n",
      "[-10000, -9960, -9802]  ...  [9823, 9950, 9983]\n"
     ]
    }
   ],
   "source": [
    "originalMatrix = matrix\n",
    "start = time.perf_counter_ns()\n",
    "for i in range(len(originalMatrix)):\n",
    "        matrix[i] = insertionSort(matrix[i])\n",
    "finish = time.perf_counter_ns() - start\n",
    "results.update(dict(Вставками=finish/1000000))\n",
    "print(f\"Time: {finish} seconds\\nMatrix:\")\n",
    "previewMatrix(matrixPreviewSize, matrix)\n",
    "matrix = originalMatrix"
   ]
  },
  {
   "cell_type": "code",
   "execution_count": 206,
   "id": "a820b637",
   "metadata": {},
   "outputs": [
    {
     "name": "stdout",
     "output_type": "stream",
     "text": [
      "Time: 51057735200 seconds\n",
      "Matrix:\n",
      "[-9943, -9892, -9842]  ...  [9933, 9980, 9998]\n",
      "[-9954, -9942, -9886]  ...  [9920, 9927, 9934]\n",
      "[-9986, -9961, -9956]  ...  [9988, 9993, 10000]\n",
      "...\n",
      "[-9979, -9977, -9964]  ...  [9996, 9996, 9999]\n",
      "[-9981, -9976, -9937]  ...  [9819, 9858, 9948]\n",
      "[-10000, -9960, -9802]  ...  [9823, 9950, 9983]\n"
     ]
    }
   ],
   "source": [
    "originalMatrix = matrix\n",
    "start = time.perf_counter_ns()\n",
    "for i in range(len(originalMatrix)):\n",
    "        matrix[i] = bubbleSort(matrix[i])\n",
    "finish = time.perf_counter_ns() - start\n",
    "results.update(dict(Пузырьком=finish/1000000))\n",
    "print(f\"Time: {finish} seconds\\nMatrix:\")\n",
    "previewMatrix(matrixPreviewSize, matrix)\n",
    "matrix = originalMatrix"
   ]
  },
  {
   "cell_type": "code",
   "execution_count": 207,
   "id": "acbd7662",
   "metadata": {},
   "outputs": [
    {
     "name": "stdout",
     "output_type": "stream",
     "text": [
      "Time: 1095131900 seconds\n",
      "Matrix:\n",
      "[-9943, -9892, -9842]  ...  [9933, 9980, 9998]\n",
      "[-9954, -9942, -9886]  ...  [9920, 9927, 9934]\n",
      "[-9986, -9961, -9956]  ...  [9988, 9993, 10000]\n",
      "...\n",
      "[-9979, -9977, -9964]  ...  [9996, 9996, 9999]\n",
      "[-9981, -9976, -9937]  ...  [9819, 9858, 9948]\n",
      "[-10000, -9960, -9802]  ...  [9823, 9950, 9983]\n"
     ]
    }
   ],
   "source": [
    "originalMatrix = matrix\n",
    "start = time.perf_counter_ns()\n",
    "for i in range(len(originalMatrix)):\n",
    "        matrix[i] = shellSort(matrix[i])\n",
    "finish = time.perf_counter_ns() - start\n",
    "results.update(dict(СортШелла=finish/1000000))\n",
    "print(f\"Time: {finish} seconds\\nMatrix:\")\n",
    "previewMatrix(matrixPreviewSize, matrix)\n",
    "matrix = originalMatrix"
   ]
  },
  {
   "cell_type": "code",
   "execution_count": 208,
   "id": "49e8cd3c",
   "metadata": {},
   "outputs": [
    {
     "name": "stdout",
     "output_type": "stream",
     "text": [
      "Time: 1491404600 seconds\n",
      "Matrix:\n",
      "[-9943, -9892, -9842]  ...  [9933, 9980, 9998]\n",
      "[-9954, -9942, -9886]  ...  [9920, 9927, 9934]\n",
      "[-9986, -9961, -9956]  ...  [9988, 9993, 10000]\n",
      "...\n",
      "[-9979, -9977, -9964]  ...  [9996, 9996, 9999]\n",
      "[-9981, -9976, -9937]  ...  [9819, 9858, 9948]\n",
      "[-10000, -9960, -9802]  ...  [9823, 9950, 9983]\n"
     ]
    }
   ],
   "source": [
    "originalMatrix = matrix\n",
    "start = time.perf_counter_ns()\n",
    "for i in range(len(originalMatrix)):\n",
    "        matrix[i] = quickSort(matrix[i])\n",
    "finish = time.perf_counter_ns() - start\n",
    "results.update(dict(Быстрая=finish/1000000))\n",
    "print(f\"Time: {finish} seconds\\nMatrix:\")\n",
    "previewMatrix(matrixPreviewSize, matrix)\n",
    "matrix = originalMatrix"
   ]
  },
  {
   "cell_type": "code",
   "execution_count": 209,
   "id": "852dfda6",
   "metadata": {},
   "outputs": [
    {
     "name": "stdout",
     "output_type": "stream",
     "text": [
      "Time: 6317656400 seconds\n",
      "Matrix:\n",
      "[-9943, -9892, -9842]  ...  [9933, 9980, 9998]\n",
      "[-9954, -9942, -9886]  ...  [9920, 9927, 9934]\n",
      "[-9986, -9961, -9956]  ...  [9988, 9993, 10000]\n",
      "...\n",
      "[-9979, -9977, -9964]  ...  [9996, 9996, 9999]\n",
      "[-9981, -9976, -9937]  ...  [9819, 9858, 9948]\n",
      "[-10000, -9960, -9802]  ...  [9823, 9950, 9983]\n"
     ]
    }
   ],
   "source": [
    "originalMatrix = matrix\n",
    "start = time.perf_counter_ns()\n",
    "for i in range(len(originalMatrix)):\n",
    "        matrix[i] = heapSort(matrix[i])\n",
    "finish = time.perf_counter_ns() - start\n",
    "results.update(dict(Пирамидальная=finish/1000000))\n",
    "print(f\"Time: {finish} seconds\\nMatrix:\")\n",
    "previewMatrix(matrixPreviewSize, matrix)\n",
    "matrix = originalMatrix"
   ]
  },
  {
   "cell_type": "code",
   "execution_count": 210,
   "id": "783f2207",
   "metadata": {},
   "outputs": [
    {
     "name": "stdout",
     "output_type": "stream",
     "text": [
      "Time: 5788997400 seconds\n",
      "Matrix:\n",
      "[-9943, -9892, -9842]  ...  [9933, 9980, 9998]\n",
      "[-9954, -9942, -9886]  ...  [9920, 9927, 9934]\n",
      "[-9986, -9961, -9956]  ...  [9988, 9993, 10000]\n",
      "...\n",
      "[-9979, -9977, -9964]  ...  [9996, 9996, 9999]\n",
      "[-9981, -9976, -9937]  ...  [9819, 9858, 9948]\n",
      "[-10000, -9960, -9802]  ...  [9823, 9950, 9983]\n"
     ]
    }
   ],
   "source": [
    "originalMatrix = matrix\n",
    "start = time.perf_counter_ns()\n",
    "for i in range(len(originalMatrix)):\n",
    "        matrix[i] = tournamentSort(matrix[i])\n",
    "finish = time.perf_counter_ns() - start\n",
    "results.update(dict(Турнирная=finish/10000000))\n",
    "print(f\"Time: {finish} seconds\\nMatrix:\")\n",
    "previewMatrix(matrixPreviewSize, matrix)\n",
    "matrix = originalMatrix"
   ]
  },
  {
   "cell_type": "code",
   "execution_count": 211,
   "id": "0a57f845",
   "metadata": {},
   "outputs": [
    {
     "name": "stdout",
     "output_type": "stream",
     "text": [
      "Time: 17003200 seconds\n",
      "Matrix:\n",
      "[-9943, -9892, -9842]  ...  [9933, 9980, 9998]\n",
      "[-9954, -9942, -9886]  ...  [9920, 9927, 9934]\n",
      "[-9986, -9961, -9956]  ...  [9988, 9993, 10000]\n",
      "...\n",
      "[-9979, -9977, -9964]  ...  [9996, 9996, 9999]\n",
      "[-9981, -9976, -9937]  ...  [9819, 9858, 9948]\n",
      "[-10000, -9960, -9802]  ...  [9823, 9950, 9983]\n"
     ]
    }
   ],
   "source": [
    "originalMatrix = matrix\n",
    "start = time.perf_counter_ns()\n",
    "for i in range(len(originalMatrix)):\n",
    "        matrix[i] = sorted(matrix[i])\n",
    "finish = time.perf_counter_ns() - start\n",
    "results.update(dict(Пайтоновская=finish/1000000))\n",
    "print(f\"Time: {finish} seconds\\nMatrix:\")\n",
    "previewMatrix(matrixPreviewSize, matrix)\n",
    "matrix = originalMatrix"
   ]
  },
  {
   "cell_type": "code",
   "execution_count": 212,
   "id": "6797772f",
   "metadata": {},
   "outputs": [
    {
     "name": "stdout",
     "output_type": "stream",
     "text": [
      "Пайтоновская: \t17.0032 ms\n",
      "Вставками: \t194.3089 ms\n",
      "Турнирная: \t578.89974 ms\n",
      "СортШелла: \t1095.1319 ms\n",
      "Быстрая: \t1491.4046 ms\n",
      "Пирамидальная: \t6317.6564 ms\n",
      "Выбором: \t40275.6831 ms\n",
      "Пузырьком: \t51057.7352 ms\n"
     ]
    }
   ],
   "source": [
    "leaderBoard = {k: v for k, v in sorted(results.items(), key=lambda item: item[1])}\n",
    "for i, j in leaderBoard.items():\n",
    "    print(f\"{i}: \\t{j} ms\")"
   ]
  },
  {
   "cell_type": "markdown",
   "id": "26d9fe31",
   "metadata": {},
   "source": [
    "### Вывод\n"
   ]
  }
 ],
 "metadata": {
  "interpreter": {
   "hash": "b89b5cfaba6639976dc87ff2fec6d58faec662063367e2c229c520fe71072417"
  },
  "kernelspec": {
   "display_name": "Python 3.10.2 64-bit",
   "name": "python3"
  },
  "language_info": {
   "codemirror_mode": {
    "name": "ipython",
    "version": 3
   },
   "file_extension": ".py",
   "mimetype": "text/x-python",
   "name": "python",
   "nbconvert_exporter": "python",
   "pygments_lexer": "ipython3",
   "version": "3.10.2"
  }
 },
 "nbformat": 4,
 "nbformat_minor": 5
}
