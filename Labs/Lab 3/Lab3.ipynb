{
 "cells": [
  {
   "cell_type": "markdown",
   "id": "db4b50f0",
   "metadata": {},
   "source": [
    "# Лабораторная работа №3\n",
    "## Выполнил студент группы БВТ2003 Митрофанов Алексей Олегович"
   ]
  },
  {
   "cell_type": "markdown",
   "id": "annual-symbol",
   "metadata": {},
   "source": [
    "### Оглавление\n",
    "1. [Задание 1](#Задание-№1)\n",
    "2. [Задание 2](#Задание-№2)\n",
    "4. [Вывод](#Вывод)"
   ]
  },
  {
   "cell_type": "markdown",
   "id": "independent-spirit",
   "metadata": {},
   "source": [
    "> Дополнительные модули, использованные при выполнение лабораторной"
   ]
  },
  {
   "cell_type": "code",
   "execution_count": 118,
   "id": "4839be2b",
   "metadata": {},
   "outputs": [],
   "source": [
    "# Необходим при замере скорости выполнения кода\n",
    "from datetime import datetime as t\n",
    "# Нужен для создания словаря в алг. Бойера-Мура\n",
    "from collections import defaultdict"
   ]
  },
  {
   "cell_type": "markdown",
   "id": "inclusive-motorcycle",
   "metadata": {},
   "source": [
    "### Задание №1\n",
    "Реализовать методы поиска подстроки в строке. Добавить возможность ввода строки и подстроки с клавиатуры. Предусмотреть возможность существования пробела. Реализовать возможность выбора опции чувствительности или нечувствительности к регистру. Оценить время работы каждого алгоритма поиска и сравнить его со временем работы стандартной функции поиска, используемой в выбранном языке программирования."
   ]
  },
  {
   "cell_type": "markdown",
   "id": "interracial-communication",
   "metadata": {},
   "source": [
    "#### Алгоритм Кнута-Морриса-Пратта"
   ]
  },
  {
   "cell_type": "code",
   "execution_count": 119,
   "id": "presidential-level",
   "metadata": {},
   "outputs": [],
   "source": [
    "def prefix_function(string: str) -> list[int]:\n",
    "    prefix_lenghts = [0] * len(string)\n",
    "\n",
    "    j = 0\n",
    "    i = 1\n",
    "    while i < len(string) and j < len(string):\n",
    "        if string[i] == string[j]:\n",
    "            j += 1\n",
    "            prefix_lenghts[i] = j\n",
    "            i += 1\n",
    "        else:\n",
    "            if j != 0:\n",
    "                j = prefix_lenghts[j - 1]\n",
    "            else:\n",
    "                prefix_lenghts[i] = 0\n",
    "                i += 1\n",
    "\n",
    "    return prefix_lenghts\n",
    "\n",
    "\n",
    "def kmp_find_pattern(_text: str, _pattern: str, case_sensitive = True) -> set[int]:\n",
    "    # Applying case insensitivity in case \n",
    "    if not case_sensitive:\n",
    "        text = _text.lower()\n",
    "        pattern = _pattern.lower()\n",
    "    else: \n",
    "        text = _text\n",
    "        pattern = _pattern\n",
    "\n",
    "    # Getting prefixes lengths for pattern\n",
    "    pattern_prefixes = prefix_function(pattern)\n",
    "\n",
    "    text_prefixes = [0] * len(text)\n",
    "    occurences_indexes = set()\n",
    "\n",
    "    i = 0\n",
    "    j = 0\n",
    "    while i < len(text):\n",
    "        if text[i] == pattern[j]:\n",
    "            j += 1\n",
    "            text_prefixes[i] = j\n",
    "            if j == len(pattern):\n",
    "                occurences_indexes.add(i)\n",
    "            j %= len(pattern)\n",
    "            i += 1\n",
    "        else:\n",
    "            if j != 0:\n",
    "                j = pattern_prefixes[j - 1]\n",
    "            else:\n",
    "                text_prefixes[i] = 0\n",
    "                i += 1\n",
    "    return occurences_indexes"
   ]
  },
  {
   "cell_type": "markdown",
   "id": "downtown-option",
   "metadata": {},
   "source": [
    "#### Упрощенный алгоритм Бойера-Мура"
   ]
  },
  {
   "cell_type": "code",
   "execution_count": 120,
   "id": "respective-reggae",
   "metadata": {},
   "outputs": [],
   "source": [
    "def get_offset_table(string: str) -> dict[str:int]:\n",
    "    offsets = {}\n",
    "    table = [0] * len(string)\n",
    "\n",
    "    for i in range(len(string) - 2, -1, -1):\n",
    "        char = string[i]\n",
    "        offset = len(string) - i - 1\n",
    "        if char in offsets.keys():\n",
    "            table[i] = offsets[char]\n",
    "        else:\n",
    "            offsets[char] = offset\n",
    "            table[i] = offsets[char]\n",
    "    if string[-1] in offsets.keys():\n",
    "        table[-1] = offsets[string[-1]]\n",
    "        return offsets\n",
    "    else:\n",
    "        offsets[string[-1]] = len(string)\n",
    "        table[-1] = len(string)\n",
    "        return offsets\n",
    "\n",
    "\n",
    "def boyer_moore(_text: str, _pattern: str, case_sensitive = True) -> set[int]:\n",
    "    if not case_sensitive:\n",
    "        text = _text.lower()\n",
    "        pattern = _pattern.lower()\n",
    "    else:\n",
    "        text = _text\n",
    "        pattern = _pattern\n",
    "\n",
    "    occurences_indexes = set()\n",
    "    offset_table = get_offset_table(pattern)\n",
    "\n",
    "    offset = 0\n",
    "    index = len(pattern) - 1\n",
    "    while index + offset < len(text):\n",
    "        backwards = 0\n",
    "        while backwards < len(pattern) and text[index + offset - backwards] == pattern[index - backwards]:\n",
    "            backwards += 1\n",
    "        if backwards == len(pattern):\n",
    "            occurences_indexes.add(index+offset)\n",
    "            offset += len(pattern)\n",
    "        elif backwards > 0:\n",
    "            offset += offset_table[pattern[-1]] \n",
    "\n",
    "        else:\n",
    "            if  text[index+offset] in offset_table.keys():\n",
    "                offset += offset_table[text[index+offset]]\n",
    "\n",
    "            else:\n",
    "                offset += len(pattern)\n",
    "    return occurences_indexes"
   ]
  },
  {
   "cell_type": "code",
   "execution_count": 121,
   "id": "4e84706c",
   "metadata": {},
   "outputs": [
    {
     "name": "stdout",
     "output_type": "stream",
     "text": [
      "Исходный текст: \n",
      "aaaaaaaaaaaaaaaaaaaaaaaaaaaaa\n",
      "\n",
      "Образец для поиска: \n",
      "baaaaaaaaaaa\n",
      "\n",
      "Найденные вхождения: \n",
      "KMP: set()\n",
      "B-M: set()\n"
     ]
    }
   ],
   "source": [
    "\n",
    "if input(\"Ручной ввод? y/n\") == 'y': \n",
    "    text = input(\"Исходный текст: \")\n",
    "    pattern = input(\"Образец поиска: \")\n",
    "else:\n",
    "    text = \"aaaaaaaaaaaaaaaaaaaaaaaaaaaaa\"\n",
    "    pattern = \"baaaaaaaaaaa\"\n",
    "\n",
    "if input(\"Чувствительный к регистру? y/n\") == 'y':\n",
    "    sensitivity = True\n",
    "else:\n",
    "    sensitivity = False\n",
    "\n",
    "kmp = kmp_find_pattern(text, pattern, sensitivity)\n",
    "b_m = boyer_moore(text, pattern, sensitivity)\n",
    "\n",
    "print(\"Исходный текст: \\n\" + text)\n",
    "print()\n",
    "print(\"Образец для поиска: \\n\" + pattern)\n",
    "print()\n",
    "print(\"Найденные вхождения: \")\n",
    "print(\"KMP: \" + str(kmp))\n",
    "print(\"B-M: \" + str(b_m))"
   ]
  },
  {
   "cell_type": "code",
   "execution_count": 122,
   "id": "21b612ca",
   "metadata": {},
   "outputs": [],
   "source": [
    "from time import perf_counter_ns as timer\n",
    "\n",
    "results = {}"
   ]
  },
  {
   "cell_type": "code",
   "execution_count": 123,
   "id": "f3647059",
   "metadata": {},
   "outputs": [
    {
     "name": "stdout",
     "output_type": "stream",
     "text": [
      "Time: 8045.5007\n"
     ]
    }
   ],
   "source": [
    "whole_time = 0\n",
    "tries = 0\n",
    "for _ in range(1000000):\n",
    "    start = timer()\n",
    "    kmp_find_pattern(text, pattern)\n",
    "    end = timer()\n",
    "    tries += 1\n",
    "    whole_time += end - start\n",
    "avg_time = whole_time / tries\n",
    "results.update(dict(КМП=avg_time))\n",
    "print(f\"Time: {avg_time}\")"
   ]
  },
  {
   "cell_type": "code",
   "execution_count": 124,
   "id": "bf1debf4",
   "metadata": {},
   "outputs": [
    {
     "name": "stdout",
     "output_type": "stream",
     "text": [
      "Time: 38080.6267\n"
     ]
    }
   ],
   "source": [
    "whole_time = 0\n",
    "tries = 0\n",
    "for _ in range(1000000):\n",
    "    start = timer()\n",
    "    boyer_moore(text, pattern)\n",
    "    end = timer()\n",
    "    tries += 1\n",
    "    whole_time += end - start\n",
    "avg_time = whole_time / tries\n",
    "results.update(dict(Б_М=avg_time))\n",
    "print(f\"Time: {avg_time}\")"
   ]
  },
  {
   "cell_type": "code",
   "execution_count": 125,
   "id": "0e68cd66",
   "metadata": {},
   "outputs": [
    {
     "name": "stdout",
     "output_type": "stream",
     "text": [
      "Time: 1436.1855\n"
     ]
    }
   ],
   "source": [
    "import re\n",
    "whole_time = 0\n",
    "tries = 0\n",
    "for _ in range(1000000):\n",
    "    start = timer()\n",
    "    {m.start() for m in re.finditer(pattern, text)}\n",
    "    end = timer()\n",
    "    tries += 1\n",
    "    whole_time += end - start\n",
    "avg_time = whole_time / tries\n",
    "results.update(dict(Встр=avg_time))\n",
    "print(f\"Time: {avg_time}\")"
   ]
  },
  {
   "cell_type": "code",
   "execution_count": 126,
   "id": "07ca9ed7",
   "metadata": {},
   "outputs": [
    {
     "name": "stdout",
     "output_type": "stream",
     "text": [
      "Встр: \t1436.1855 ms\n",
      "КМП: \t8045.5007 ms\n",
      "Б_М: \t38080.6267 ms\n"
     ]
    }
   ],
   "source": [
    "leaderBoard = {k: v for k, v in sorted(results.items(), key=lambda item: item[1])}\n",
    "for i, j in leaderBoard.items():\n",
    "    print(f\"{i}: \\t{j} ms\")"
   ]
  },
  {
   "cell_type": "markdown",
   "id": "hybrid-memorial",
   "metadata": {},
   "source": [
    "### Задание №2\n",
    "Написать программу, определяющую, является ли данное\n",
    "расположение «решаемым», то есть можно ли из него за конечное число\n",
    "шагов перейти к правильному. Если это возможно, то необходимо найти хотя\n",
    "бы одно решение - последовательность движений, после которой числа будут\n",
    "расположены в правильном порядке.\n",
    "#### Входные данные: массив чисел, представляющий собой расстановку в\n",
    "Порядке «слева направо, сверху вниз». Число 0 обозначает пустое поле.\n",
    "Например, массив [1, 2, 3, 4, 5, 6, 7, 8, 9, 10, 11, 12, 13, 14, 15, 0] представляет\n",
    "собой «решенную» позицию элементов.\n",
    "#### Выходные данные: если решения нет, то функция должна вернуть\n",
    "Пустой массив []. Если решение есть, то необходимо представить решение —\n",
    "для каждого шага записывается номер передвигаемого на данном шаге\n",
    "элемента. "
   ]
  },
  {
   "cell_type": "code",
   "execution_count": 1,
   "id": "eleven-generic",
   "metadata": {},
   "outputs": [],
   "source": [
    "def check_solvability(tags: list[int]) -> bool:\n",
    "    check_sum = 0\n",
    "    for ind1, pivot in enumerate(tags):\n",
    "        for ind2, element in enumerate(tags[ind1:]):\n",
    "            if element < pivot and element != 0:\n",
    "                check_sum += 1\n",
    "    check_sum += tags.index(0) // 4 + 1\n",
    "\n",
    "    return check_sum % 2 == 0"
   ]
  },
  {
   "cell_type": "code",
   "execution_count": 2,
   "id": "f872da28",
   "metadata": {},
   "outputs": [],
   "source": [
    "def possible_moves(position):\n",
    "    n = 4\n",
    "    blank = position.index(0)\n",
    "    i, j = divmod(blank, n)\n",
    "    offsets = []\n",
    "    if i > 0:\n",
    "        offsets.append(-n)\n",
    "    if i < n - 1:\n",
    "        offsets.append(n)\n",
    "    if j > 0:\n",
    "        offsets.append(-1)\n",
    "    if j < n - 1:\n",
    "        offsets.append(1)\n",
    "    for offset in offsets:\n",
    "        swap = blank + offset\n",
    "        yield tuple(\n",
    "            position[swap]\n",
    "            if x == blank\n",
    "            else position[blank]\n",
    "            if x == swap\n",
    "            else position[x]\n",
    "            for x in range(n * n)\n",
    "        )"
   ]
  },
  {
   "cell_type": "code",
   "execution_count": 3,
   "id": "747b4850",
   "metadata": {},
   "outputs": [],
   "source": [
    "def manhatan(state):\n",
    "    solved = (1, 2, 3, 4, 5, 6, 7, 8, 9, 10, 11, 12, 13, 14, 15, 0)\n",
    "    dist = 0\n",
    "    for ind, (real, ideal) in enumerate(zip(state, solved)):\n",
    "        if real != ideal:\n",
    "            horizontal = abs(ind  % 4 - solved.index(real) % 4)\n",
    "            vertical   = abs(ind // 4 - solved.index(real) // 4)\n",
    "            dist      += horizontal + vertical\n",
    "    return dist"
   ]
  },
  {
   "cell_type": "code",
   "execution_count": 4,
   "id": "4a2fe4b5",
   "metadata": {},
   "outputs": [],
   "source": [
    "class Node:\n",
    "    def __init__(self, position, distance_from_start, previous_node):\n",
    "        self.position            = position\n",
    "        self.distance_from_start = distance_from_start\n",
    "        self.previous_node       = previous_node\n",
    "\n",
    "    def __lt__(self, other):\n",
    "        return self.distance_from_start < other.distance_from_start\n",
    "\n",
    "    def __str__(self):\n",
    "        n =  4\n",
    "        return \"\\n\".join(\n",
    "            (n * \"{:3}\").format(*[i % (n * n) for i in self.position[i:]])\n",
    "            for i in range(0, n * n, n)\n",
    "        )"
   ]
  },
  {
   "cell_type": "code",
   "execution_count": 6,
   "id": "ad2dab63",
   "metadata": {},
   "outputs": [],
   "source": [
    "# fmt: off\n",
    "SOLVED = (1, 2, 3, 4, 5, 6, 7, 8, 9, 10, 11, 12, 13, 14, 15, 0)\n",
    "\n",
    "start      = [1,   2,  3,  4, \n",
    "              5,   6,  7,  8, \n",
    "              9,  10, 11, 12, \n",
    "              13, 14,  0, 15]\n",
    "\n",
    "tags       = [12,  5,  8,  7,\n",
    "               4, 11,  2, 13,\n",
    "               6,  1,  0, 10,\n",
    "               9, 15, 14,  3]\n",
    "\n",
    "unsolvable = [1,   2,  3,  4, \n",
    "              5,   6,  7,  8, \n",
    "              9,  10, 11, 12, \n",
    "              13, 15,  14, 0]\n",
    "\n",
    "# fmt: on\n",
    "\n",
    "# start = tags\n",
    "# start = unsolvable_tags"
   ]
  },
  {
   "cell_type": "code",
   "execution_count": 7,
   "id": "9121f072",
   "metadata": {},
   "outputs": [
    {
     "name": "stdout",
     "output_type": "stream",
     "text": [
      "  1  2  3  4\n",
      "  5  6  7  8\n",
      "  9 10 11 12\n",
      " 13 14  0 15\n",
      "\n",
      "[15]\n",
      "\n",
      "  1  2  3  4\n",
      "  5  6  7  8\n",
      "  9 10 11 12\n",
      " 13 14 15  0\n",
      "\n",
      "  1  2  3  4\n",
      "  5  6  7  8\n",
      "  9 10 11 12\n",
      " 13 14  0 15\n",
      "\n"
     ]
    }
   ],
   "source": [
    "from queue import PriorityQueue\n",
    "\n",
    "if check_solvability(start) == 0:\n",
    "    print(\"Can't solved\")\n",
    "else:\n",
    "    start = tuple(start)\n",
    "\n",
    "    current_state = Node(start, 0, None)\n",
    "\n",
    "    candidates = PriorityQueue()\n",
    "    candidates.put((0, current_state))\n",
    "\n",
    "    visited = set([current_state])\n",
    "    came_from = {current_state.position: None}\n",
    "\n",
    "    while not candidates.empty() and current_state.position != SOLVED:\n",
    "        cost, current_state = candidates.get()\n",
    "        for position in possible_moves(current_state.position):\n",
    "            if position not in visited:\n",
    "                new_candidate = (\n",
    "                    manhatan(position),\n",
    "                    Node(\n",
    "                        position, current_state.distance_from_start + 1, current_state\n",
    "                    ),\n",
    "                )\n",
    "                candidates.put(new_candidate)\n",
    "                came_from[position] = current_state\n",
    "                visited.add(position)"
   ]
  },
  {
   "cell_type": "code",
   "execution_count": null,
   "id": "8cfa91e7",
   "metadata": {},
   "outputs": [],
   "source": []
  },
  {
   "cell_type": "markdown",
   "id": "arbitrary-amazon",
   "metadata": {},
   "source": [
    "### Вывод"
   ]
  },
  {
   "cell_type": "markdown",
   "id": "71bc58bf",
   "metadata": {},
   "source": []
  }
 ],
 "metadata": {
  "interpreter": {
   "hash": "26de051ba29f2982a8de78e945f0abaf191376122a1563185a90213a26c5da77"
  },
  "kernelspec": {
   "display_name": "Python 3.10.4 64-bit",
   "language": "python",
   "name": "python3"
  },
  "language_info": {
   "codemirror_mode": {
    "name": "ipython",
    "version": 3
   },
   "file_extension": ".py",
   "mimetype": "text/x-python",
   "name": "python",
   "nbconvert_exporter": "python",
   "pygments_lexer": "ipython3",
   "version": "3.10.4"
  }
 },
 "nbformat": 4,
 "nbformat_minor": 5
}
