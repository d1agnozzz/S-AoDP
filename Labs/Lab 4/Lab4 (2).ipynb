{
 "cells": [
  {
   "cell_type": "markdown",
   "id": "fifteen-sailing",
   "metadata": {},
   "source": [
    "# Лабораторная работа №4\n",
    "## Выполнил студент группы БВТ2003 Митрофанов А.О."
   ]
  },
  {
   "cell_type": "markdown",
   "id": "arctic-stocks",
   "metadata": {},
   "source": [
    "Реализовать следующие структуры данных:\n",
    "  \n",
    "● <b> Стек (stack): </b>  \n",
    "Операции для стека: \n",
    "<i> инициализация, проверка на пустоту, добавление нового элемента в начало, извлечение элемента из начала;  </i>  \n",
    "  \n",
    "● <b> Дек (двусторонняя очередь, deque):  </b>  \n",
    "Операции для дека: \n",
    "<i> инициализация, проверка на пустоту, добавление нового элемента в начало, добавление нового элемента в конец, извлечение элемента из начала, извлечение элемента из конца. </i>  \n",
    "  \n",
    "<i> Разработать программу обработки данных, содержащихся в заранее подготовленном txt-файле, в соответствии с заданиями, применив указанную в задании структуру данных. Результат работы программы вывести на экран и сохранить в отдельном txt-файле. </i>"
   ]
  },
  {
   "cell_type": "code",
   "execution_count": 2,
   "id": "85811822",
   "metadata": {},
   "outputs": [],
   "source": [
    "class stack:\n",
    "    def __init__(self, content: list = None) -> None:\n",
    "        if content == None:\n",
    "            self.content = list()\n",
    "            return\n",
    "        self.content = content\n",
    "    \n",
    "    def is_empty(self):\n",
    "        return len(self.content) == 0\n",
    "        if len(self.content) == 0:\n",
    "            return True\n",
    "        return False\n",
    "    \n",
    "    def pushright(self, element):\n",
    "        self.content.append(element)\n",
    "\n",
    "    def popright(self):\n",
    "        return self.content.pop()\n",
    "\n",
    "    def peekright(self):\n",
    "        return self.content[-1]\n",
    "    \n",
    "    def __str__(self) -> str:\n",
    "        return str(self.content)\n",
    "\n",
    "\n",
    "class deque(stack):\n",
    "\n",
    "    def pushleft(self, element):\n",
    "        self.content.insert(0, element)\n",
    "    \n",
    "    def popleft(self):\n",
    "        return self.content.pop(0)\n",
    "        \n",
    "\n",
    "    def peekleft(self):\n",
    "        return self.content[0]"
   ]
  },
  {
   "cell_type": "markdown",
   "id": "5d7edb08",
   "metadata": {
    "scrolled": true
   },
   "source": [
    "### Задание №1\n",
    "Отсортировать строки файла, содержащие названия книг, в алфавитном порядке с использованием двух деков."
   ]
  },
  {
   "cell_type": "code",
   "execution_count": 2,
   "id": "17702ade",
   "metadata": {},
   "outputs": [
    {
     "name": "stdout",
     "output_type": "stream",
     "text": [
      "1984\n",
      "\n",
      "American Psycho\n",
      "\n",
      "Brave New World\n",
      "\n",
      "Harry Potter\n",
      "\n",
      "Lord of the Rings\n",
      "\n",
      "The Shining\n",
      "\n",
      "The Stand\n",
      "\n",
      "War and Peace\n",
      "\n",
      "We\n",
      "\n"
     ]
    }
   ],
   "source": [
    "with open(\"materials\\\\books.txt\", 'r') as books:\n",
    "    d1 = deque()\n",
    "    d2 = deque()\n",
    "    \n",
    "    for line in books:\n",
    "        d1.pushright(line)\n",
    "\n",
    "    while not d1.is_empty():\n",
    "        current = d1.popright()\n",
    "        while not d2.is_empty() and d2.peekright() > current:\n",
    "            d1.pushleft(d2.popright())\n",
    "        d2.pushright(current)\n",
    "    while not d2.is_empty():\n",
    "        print(d2.popleft())"
   ]
  },
  {
   "cell_type": "markdown",
   "id": "49fbd2a0",
   "metadata": {},
   "source": [
    "### Задание №2\n",
    "Дек содержит последовательность символов для шифровки сообщений. Дан текстовый файл, содержащий зашифрованное сообщение. Пользуясь деком, расшифровать текст. \n",
    "Известно, что при шифровке каждый символ сообщения заменялся следующим за ним в деке по часовой стрелке через один."
   ]
  },
  {
   "cell_type": "code",
   "execution_count": 3,
   "id": "81cab7a8",
   "metadata": {},
   "outputs": [
    {
     "name": "stdout",
     "output_type": "stream",
     "text": [
      "AAABBBCCCDDD\n",
      "CCCDDDAAABBB\n",
      "AAABBBCCCDDD\n"
     ]
    }
   ],
   "source": [
    "d = deque([\"A\", \"B\", \"C\", \"D\"])\n",
    "\n",
    "decrypted = \"AAABBBCCCDDD\"\n",
    "\n",
    "\n",
    "def decrypt(encrypted: str) -> str:\n",
    "    decrypted = \"\"\n",
    "    for char in encrypted:\n",
    "        while d.peekright() != char:\n",
    "            d.pushright(d.popleft())\n",
    "\n",
    "        d.pushright(d.popleft())\n",
    "        decrypted += d.peekleft()\n",
    "        # d.pushleft(d.popright())\n",
    "    return decrypted\n",
    "\n",
    "\n",
    "def encrypt(decrypted: str) -> str:\n",
    "    encrypted = \"\"\n",
    "    for char in decrypted:\n",
    "        while d.peekleft() != char:\n",
    "            d.pushleft(d.popright())\n",
    "\n",
    "        d.pushleft(d.popright())\n",
    "        encrypted += d.peekright()\n",
    "        # d.pushright(d.popleft())\n",
    "    return encrypted\n",
    "\n",
    "\n",
    "print(decrypted)\n",
    "print(encrypt(decrypted))\n",
    "print(decrypt(encrypt(decrypted)))"
   ]
  },
  {
   "cell_type": "markdown",
   "id": "c0894f47",
   "metadata": {},
   "source": [
    "### Задание №3\n",
    "Даны три стержня и n дисков различного размера. Диски можно надевать на стержни, образуя из них башни. Перенести n дисков со стержня А на стержень С, сохранив их первоначальный порядок. При переносе дисков необходимо соблюдать следующие правила:\n",
    "- на каждом шаге со стержня на стержень переносить только один диск;\n",
    "- диск нельзя помещать на диск меньшего размера;\n",
    "- для промежуточного хранения можно использовать стержень В.\n",
    "Реализовать алгоритм, используя три стека вместо стержней А, В, С. Информация о дисках хранится в исходном файле."
   ]
  },
  {
   "cell_type": "code",
   "execution_count": 7,
   "id": "9e91a9d4",
   "metadata": {},
   "outputs": [
    {
     "name": "stdout",
     "output_type": "stream",
     "text": [
      "1\n",
      "2\n",
      "3\n",
      "4\n",
      "5\n",
      "6\n",
      "7\n",
      "8\n",
      "9\n"
     ]
    }
   ],
   "source": [
    "A = stack()\n",
    "B = stack()\n",
    "C = stack()\n",
    "\n",
    "n = 9\n",
    "\n",
    "def move(a, b):\n",
    "    if a.is_empty() and not b.is_empty():\n",
    "        a.pushright(b.popright())\n",
    "    elif not a.is_empty() and b.is_empty():\n",
    "        b.pushright(a.popright())\n",
    "    elif a.peekright() > b.peekright():\n",
    "        a.pushright(b.popright())\n",
    "    else:\n",
    "        b.pushright(a.popright())\n",
    "\n",
    "for i in range(n, 0, -1):\n",
    "    A.pushright(i)\n",
    "\n",
    "start, dest, aux = A, C, B\n",
    "\n",
    "while not dest.is_empty():\n",
    "    print(dest.popright())\n",
    "\n",
    "\n",
    "\n",
    "total_num_of_moves = int(pow(2, n)-1)\n",
    "\n",
    "for i in range(1, total_num_of_moves+1):\n",
    "    if i%3==1:\n",
    "        move(start, dest)\n",
    "    elif i%3==2:\n",
    "        move(start, aux)\n",
    "    elif i%3==0:\n",
    "        move(aux, dest)\n",
    "\n",
    "if n % 2 == 0:\n",
    "    temp = dest\n",
    "    dest = aux\n",
    "    aux = temp\n",
    "\n",
    "while not dest.is_empty():\n",
    "    print(dest.popright())\n"
   ]
  },
  {
   "cell_type": "markdown",
   "id": "e5b0be17",
   "metadata": {},
   "source": [
    "### Задание №4\n",
    "Дан текстовый файл с программой на алгоритмическом языке. За один просмотр файла проверить баланс круглых скобок в тексте, используя стек."
   ]
  },
  {
   "cell_type": "code",
   "execution_count": 9,
   "id": "5b1df60a",
   "metadata": {},
   "outputs": [
    {
     "name": "stdout",
     "output_type": "stream",
     "text": [
      "balanced\n"
     ]
    }
   ],
   "source": [
    "\n",
    "brackets = stack()\n",
    "\n",
    "with open(\"materials/unbalanced_1.py\", 'r') as f:\n",
    "    balanced = True\n",
    "    for line in f:\n",
    "        for char in line:\n",
    "            if char == '(':\n",
    "                brackets.pushright(\"(\") \n",
    "            elif char == ')':\n",
    "                if not brackets.is_empty():\n",
    "                    brackets.popright()\n",
    "                else:\n",
    "                    balanced = False\n",
    "                    break \n",
    "        if not balanced:\n",
    "            break\n",
    "    if balanced and brackets.is_empty():\n",
    "        print('balanced')\n",
    "    else:\n",
    "        print('unbalanced')\n"
   ]
  },
  {
   "cell_type": "markdown",
   "id": "c44cdd6b",
   "metadata": {},
   "source": [
    "### Задание №5\n",
    "Дан текстовый файл с программой на алгоритмическом языке. За один просмотр файла проверить баланс квадратных скобок в тексте, используя дек."
   ]
  },
  {
   "cell_type": "code",
   "execution_count": 12,
   "id": "36b8f400",
   "metadata": {},
   "outputs": [
    {
     "name": "stdout",
     "output_type": "stream",
     "text": [
      "False\n"
     ]
    }
   ],
   "source": [
    "brackets = deque()\n",
    "\n",
    "with open(\"materials/unbalanced_2.py\", 'r') as f:\n",
    "    for line in f:\n",
    "        for char in line:\n",
    "            if char == '[':\n",
    "                brackets.pushleft(char)\n",
    "            elif char == ']':\n",
    "                brackets.pushright(char)\n",
    "    while not brackets.is_empty() and brackets.peekleft() == '[' and brackets.peekright() == ']':\n",
    "        brackets.popleft()\n",
    "        brackets.popright()\n",
    "    print( brackets.is_empty())"
   ]
  },
  {
   "cell_type": "markdown",
   "id": "59d13dc7",
   "metadata": {},
   "source": [
    "### Задание №6\n",
    "Дан файл из символов. Используя стек, за один просмотр файла напечатать сначала все цифры, затем все буквы, и, наконец, все остальные символы, сохраняя исходный порядок в каждой группе символов."
   ]
  },
  {
   "cell_type": "code",
   "execution_count": 14,
   "id": "297e36c2",
   "metadata": {},
   "outputs": [
    {
     "name": "stdout",
     "output_type": "stream",
     "text": [
      "1\n",
      "2\n",
      "3\n",
      "4\n",
      "5\n",
      "a\n",
      "b\n",
      "c\n",
      "d\n",
      "e\n",
      "f\n",
      "_\n",
      "#\n",
      "^\n",
      "$\n"
     ]
    }
   ],
   "source": [
    "nums = stack()\n",
    "letters = stack()\n",
    "others = stack()\n",
    "\n",
    "with open('materials/character_mess.txt', 'r') as f:\n",
    "    text = ''.join(f)\n",
    "\n",
    "    for char in text:\n",
    "        if char.isdigit():\n",
    "            nums.pushright(char)\n",
    "            continue\n",
    "        elif char.isalpha():\n",
    "            letters.pushright(char)\n",
    "            continue\n",
    "        else:\n",
    "            others.pushright(char)\n",
    "            continue\n",
    "\n",
    "    reverse = stack()\n",
    "    while not nums.is_empty():\n",
    "        reverse.pushright(nums.popright())\n",
    "    while not reverse.is_empty():\n",
    "        print(reverse.popright())\n",
    "\n",
    "    while not letters.is_empty():\n",
    "        reverse.pushright(letters.popright())\n",
    "    while not reverse.is_empty():\n",
    "        print(reverse.popright())\n",
    "\n",
    "    while not others.is_empty():\n",
    "        reverse.pushright(others.popright())\n",
    "    while not reverse.is_empty():\n",
    "        print(reverse.popright())\n"
   ]
  },
  {
   "cell_type": "markdown",
   "id": "973f68bd",
   "metadata": {},
   "source": [
    "### Задание №7\n",
    "Дан файл из целых чисел. Используя дек, за один просмотр файла напечатать сначала все отрицательные числа, затем все положительные числа, сохраняя исходный порядок в каждой группе."
   ]
  },
  {
   "cell_type": "code",
   "execution_count": 15,
   "id": "c56fad66",
   "metadata": {},
   "outputs": [
    {
     "name": "stdout",
     "output_type": "stream",
     "text": [
      "-1\n",
      "-2\n",
      "-3\n",
      "1\n",
      "2\n",
      "3\n"
     ]
    }
   ],
   "source": [
    "positive = deque()\n",
    "negative = deque()\n",
    "\n",
    "\n",
    "with open('materials/integers.txt', 'r') as f:\n",
    "    text = f.read().splitlines()\n",
    "    for num in text:\n",
    "        if int(num) >= 0:\n",
    "            positive.pushright(int(num))\n",
    "        elif int(num) < 0:\n",
    "            negative.pushright(int(num))\n",
    "    while not negative.is_empty():\n",
    "        print(negative.popleft())\n",
    "    while not positive.is_empty():\n",
    "        print(positive.popleft())"
   ]
  },
  {
   "cell_type": "markdown",
   "id": "b9228191",
   "metadata": {},
   "source": [
    "### Задание №8\n",
    "Дан текстовый файл. Используя стек, сформировать новый текстовый файл, содержащий строки исходного файла, записанные в обратном порядке: первая строка становится последней, вторая – предпоследней и т.д."
   ]
  },
  {
   "cell_type": "code",
   "execution_count": 16,
   "id": "981fbdfe",
   "metadata": {},
   "outputs": [],
   "source": [
    "s = stack()\n",
    "\n",
    "with open('materials/text.txt', 'r') as f:\n",
    "    text = f.read()\n",
    "    lines = text.splitlines()\n",
    "\n",
    "    for line in lines:\n",
    "        s.pushright(line)\n",
    "    \n",
    "with open('materials/reversed_text.txt', 'w') as f:\n",
    "    while not s.is_empty():\n",
    "        f.write(s.popright())\n",
    "        f.write(\"\\n\")"
   ]
  },
  {
   "cell_type": "markdown",
   "id": "rental-jerusalem",
   "metadata": {},
   "source": [
    "### Вывод\n"
   ]
  },
  {
   "cell_type": "markdown",
   "id": "0c2b8899",
   "metadata": {},
   "source": []
  }
 ],
 "metadata": {
  "kernelspec": {
   "display_name": "Python 3 (ipykernel)",
   "language": "python",
   "name": "python3"
  },
  "language_info": {
   "codemirror_mode": {
    "name": "ipython",
    "version": 3
   },
   "file_extension": ".py",
   "mimetype": "text/x-python",
   "name": "python",
   "nbconvert_exporter": "python",
   "pygments_lexer": "ipython3",
   "version": "3.10.4"
  }
 },
 "nbformat": 4,
 "nbformat_minor": 5
}
