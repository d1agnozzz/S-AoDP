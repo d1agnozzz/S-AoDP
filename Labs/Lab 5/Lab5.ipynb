{
 "cells": [
  {
   "cell_type": "markdown",
   "metadata": {
    "id": "WPvB9TcMmKA6"
   },
   "source": [
    "# Лабораторная работа №5\n",
    "# Рекурсия. Фракталы."
   ]
  },
  {
   "cell_type": "markdown",
   "metadata": {
    "id": "96Gi_LEvmSVH"
   },
   "source": [
    "## Выполнил студент группы БВТ2003 Митрофанов А.О.\n",
    "***\n",
    "###### (пометка для себя: остальные файлы в папке **../Ucheba/Python/turtle_graphics**)"
   ]
  },
  {
   "cell_type": "markdown",
   "metadata": {
    "id": "4clYOyb0mbEv"
   },
   "source": [
    "### Задание:\n",
    "Реализовать генерацию заданного типа фрактала с применением рекурсивных функций.\n",
    "\n",
    "\n",
    "Добавить возможность задания глубины фрактала. \n",
    "\n",
    "\n",
    "Оценить глубину рекурсии. \n",
    "\n",
    "\n",
    "Построить таблицу зависимости времени построения от глубины фрактала."
   ]
  },
  {
   "cell_type": "markdown",
   "metadata": {
    "id": "wDXHbUmMmhRL"
   },
   "source": [
    "### Список фракталов:\n",
    "\n",
    "Кривая Коха\n",
    "| Кривая Гильберта\n",
    "| Кривая Серпинского\n",
    "| Салфетка Серпинского\n",
    "| Ковер Серпинского\n",
    "| Дерево Пифагора "
   ]
  },
  {
   "cell_type": "markdown",
   "metadata": {
    "id": "Wggfn8l7nG72"
   },
   "source": [
    "### Выполнение:"
   ]
  },
  {
   "cell_type": "code",
   "execution_count": 6,
   "metadata": {
    "id": "681a95mZnOSa"
   },
   "outputs": [],
   "source": [
    "## Setting turtle up\n",
    "#  Set window height and width in pixels\n",
    "import turtle\n",
    "\n",
    "def setup_turtle():\n",
    "    turtle.speed('fastest')\n",
    "    turtle.tracer(False)\n",
    "    turtle.color('#ffffff')\n",
    "    turtle.bgcolor('#000000')\n",
    "   \n",
    "\n",
    "    turtle.Screen().setup(1000, 1000)\n",
    "    turtle.setworldcoordinates(-35,-35,35,35) \n",
    "    turtle.setheading(0)\n",
    "    turtle.setposition(0, 0)\n",
    "    turtle.hideturtle()\n"
   ]
  },
  {
   "cell_type": "code",
   "execution_count": 7,
   "metadata": {},
   "outputs": [],
   "source": [
    "def iterate_rules(string, rules, iterations):\n",
    "    if iterations == 0:\n",
    "        return string\n",
    "\n",
    "    new = \"\"\n",
    "    for char in string:\n",
    "        if char in rules:\n",
    "            new += rules.get(char)\n",
    "        else:\n",
    "            new += char\n",
    "    return iterate_rules(new, rules, iterations-1)"
   ]
  },
  {
   "cell_type": "code",
   "execution_count": 8,
   "metadata": {},
   "outputs": [],
   "source": [
    "def draw(string, step, angle):\n",
    "    # turtle.speed('fastest')\n",
    "    # turtle.tracer(False)\n",
    "    turtle.bgcolor(\"#000000\")\n",
    "    turtle.color('#ffffff')\n",
    "\n",
    "    turtle.pendown()\n",
    "    stack = []\n",
    "    for char in string:\n",
    "        if char == \"F\" or char == \"G\" or char == \"1\" or char == \"0\":\n",
    "            turtle.forward(step)\n",
    "        elif char ==\"-\":\n",
    "            turtle.left(angle)\n",
    "        elif char ==\"+\":\n",
    "            turtle.right(angle)\n",
    "        elif char == '[':\n",
    "            stack.append([turtle.xcor(), turtle.ycor(), turtle.heading()])\n",
    "            turtle.left(45)\n",
    "        elif char == ']':\n",
    "            turtle.penup()\n",
    "            turtle.goto(stack[-1][0], stack[-1][1])\n",
    "            turtle.setheading(stack[-1][2])\n",
    "            stack.pop()\n",
    "            turtle.pendown()\n",
    "            turtle.right(45)\n",
    "    turtle.penup()\n",
    "    turtle.goto(0,0)\n",
    "    turtle.setheading(0)\n",
    "    turtle.update()\n",
    "    turtle.done()\n",
    "    return\n"
   ]
  },
  {
   "cell_type": "code",
   "execution_count": 31,
   "metadata": {},
   "outputs": [
    {
     "ename": "Terminator",
     "evalue": "",
     "output_type": "error",
     "traceback": [
      "\u001b[1;31m---------------------------------------------------------------------------\u001b[0m",
      "\u001b[1;31mTerminator\u001b[0m                                Traceback (most recent call last)",
      "\u001b[1;32mc:\\Users\\klepotop\\YandexDisk\\Ucheba\\4 sem\\SIAOD\\Labs\\Lab 5\\Lab5 (2).ipynb Cell 9'\u001b[0m in \u001b[0;36m<cell line: 10>\u001b[1;34m()\u001b[0m\n\u001b[0;32m      <a href='vscode-notebook-cell:/c%3A/Users/klepotop/YandexDisk/Ucheba/4%20sem/SIAOD/Labs/Lab%205/Lab5%20%282%29.ipynb#ch0000008?line=7'>8</a>\u001b[0m turtle\u001b[39m.\u001b[39msetworldcoordinates(\u001b[39m0\u001b[39m, \u001b[39m-\u001b[39m\u001b[39m35\u001b[39m, \u001b[39m70\u001b[39m, \u001b[39m35\u001b[39m)\n\u001b[0;32m      <a href='vscode-notebook-cell:/c%3A/Users/klepotop/YandexDisk/Ucheba/4%20sem/SIAOD/Labs/Lab%205/Lab5%20%282%29.ipynb#ch0000008?line=8'>9</a>\u001b[0m draw(iterate_rules(koch_axiom, koch_rules, iters), step\u001b[39m/\u001b[39mdelimiter, angle)\n\u001b[1;32m---> <a href='vscode-notebook-cell:/c%3A/Users/klepotop/YandexDisk/Ucheba/4%20sem/SIAOD/Labs/Lab%205/Lab5%20%282%29.ipynb#ch0000008?line=9'>10</a>\u001b[0m turtle\u001b[39m.\u001b[39;49mdone()\n",
      "File \u001b[1;32m<string>:5\u001b[0m, in \u001b[0;36mmainloop\u001b[1;34m()\u001b[0m\n",
      "\u001b[1;31mTerminator\u001b[0m: "
     ]
    }
   ],
   "source": [
    "koch_axiom = \"F\"\n",
    "koch_rules = {\"F\":\"F-F++F-F\"}\n",
    "angle = 60\n",
    "step = 70\n",
    "iters = 6\n",
    "delimiter = 3**iters\n",
    "setup_turtle()\n",
    "turtle.setworldcoordinates(0, -35, 70, 35)\n",
    "draw(iterate_rules(koch_axiom, koch_rules, iters), step/delimiter, angle)\n",
    "turtle.done()"
   ]
  },
  {
   "cell_type": "code",
   "execution_count": null,
   "metadata": {},
   "outputs": [],
   "source": [
    "hilbert_axiom = 'A'\n",
    "hilbert_rules = {\"A\": \"-BF+AFA+FB-\", \"B\": \"+AF-BFB-FA+\"}\n",
    "angle = 90\n",
    "step = 69\n",
    "iters = 6\n",
    "delimiter = 1\n",
    "if iters > 1:\n",
    "    for _ in range(iters-1):\n",
    "        delimiter *= 2\n",
    "        delimiter += 1\n",
    "setup_turtle()\n",
    "turtle.setworldcoordinates(0, 0, 70, 70)\n",
    "draw(iterate_rules(hilbert_axiom, hilbert_rules, iters), step/delimiter, angle)\n",
    "turtle.done()"
   ]
  },
  {
   "cell_type": "code",
   "execution_count": 110,
   "metadata": {},
   "outputs": [
    {
     "ename": "Terminator",
     "evalue": "",
     "output_type": "error",
     "traceback": [
      "\u001b[1;31m---------------------------------------------------------------------------\u001b[0m",
      "\u001b[1;31mTerminator\u001b[0m                                Traceback (most recent call last)",
      "\u001b[1;32mc:\\Users\\klepotop\\YandexDisk\\Ucheba\\4 sem\\SIAOD\\Labs\\Lab 5\\Lab5 (2).ipynb Cell 11'\u001b[0m in \u001b[0;36m<cell line: 10>\u001b[1;34m()\u001b[0m\n\u001b[0;32m      <a href='vscode-notebook-cell:/c%3A/Users/klepotop/YandexDisk/Ucheba/4%20sem/SIAOD/Labs/Lab%205/Lab5%20%282%29.ipynb#ch0000010?line=7'>8</a>\u001b[0m turtle\u001b[39m.\u001b[39msetworldcoordinates(\u001b[39m-\u001b[39m\u001b[39m35\u001b[39m, \u001b[39m0\u001b[39m, \u001b[39m35\u001b[39m, \u001b[39m70\u001b[39m)\n\u001b[0;32m      <a href='vscode-notebook-cell:/c%3A/Users/klepotop/YandexDisk/Ucheba/4%20sem/SIAOD/Labs/Lab%205/Lab5%20%282%29.ipynb#ch0000010?line=8'>9</a>\u001b[0m draw(iterate_rules(serp_curve_axiom, serp_curve_rules, iters), step\u001b[39m/\u001b[39mdelimiter, angle)\n\u001b[1;32m---> <a href='vscode-notebook-cell:/c%3A/Users/klepotop/YandexDisk/Ucheba/4%20sem/SIAOD/Labs/Lab%205/Lab5%20%282%29.ipynb#ch0000010?line=9'>10</a>\u001b[0m turtle\u001b[39m.\u001b[39;49mdone()\n",
      "File \u001b[1;32m<string>:5\u001b[0m, in \u001b[0;36mmainloop\u001b[1;34m()\u001b[0m\n",
      "\u001b[1;31mTerminator\u001b[0m: "
     ]
    }
   ],
   "source": [
    "%%capture \n",
    "\n",
    "serp_curve_axiom = 'F--XF--F--XF'\n",
    "serp_curve_rules = {\"X\":\"XF+G+XF--F--XF+G+X\", \"F\":\"F\", \"G\":\"G\", \"+\":\"+\", \"-\":\"-\"}\n",
    "angle = 45\n",
    "step = 30\n",
    "iters = 7\n",
    "delimiter = (2/3) * (1 + 2**0.5) * 2**iters - (1/3)*(2-2**0.5) * (1/(2**iters))\n",
    "setup_turtle()\n",
    "turtle.setworldcoordinates(-35, 0, 35, 70)\n",
    "draw(iterate_rules(serp_curve_axiom, serp_curve_rules, iters), step/delimiter, angle)\n",
    "turtle.done()"
   ]
  },
  {
   "cell_type": "code",
   "execution_count": 7,
   "metadata": {},
   "outputs": [
    {
     "ename": "Terminator",
     "evalue": "",
     "output_type": "error",
     "traceback": [
      "\u001b[1;31m---------------------------------------------------------------------------\u001b[0m",
      "\u001b[1;31mTerminator\u001b[0m                                Traceback (most recent call last)",
      "\u001b[1;32mc:\\Users\\klepotop\\YandexDisk\\Ucheba\\4 sem\\SIAOD\\Labs\\Lab 5\\Lab5 (2).ipynb Cell 12'\u001b[0m in \u001b[0;36m<cell line: 10>\u001b[1;34m()\u001b[0m\n\u001b[0;32m      <a href='vscode-notebook-cell:/c%3A/Users/klepotop/YandexDisk/Ucheba/4%20sem/SIAOD/Labs/Lab%205/Lab5%20%282%29.ipynb#ch0000011?line=7'>8</a>\u001b[0m turtle\u001b[39m.\u001b[39msetworldcoordinates(\u001b[39m0\u001b[39m, \u001b[39m-\u001b[39m\u001b[39m35\u001b[39m, \u001b[39m70\u001b[39m, \u001b[39m35\u001b[39m)\n\u001b[0;32m      <a href='vscode-notebook-cell:/c%3A/Users/klepotop/YandexDisk/Ucheba/4%20sem/SIAOD/Labs/Lab%205/Lab5%20%282%29.ipynb#ch0000011?line=8'>9</a>\u001b[0m draw(iterate_rules(tree_axiom, tree_rules, iters), step\u001b[39m/\u001b[39mdelimiter, angle)\n\u001b[1;32m---> <a href='vscode-notebook-cell:/c%3A/Users/klepotop/YandexDisk/Ucheba/4%20sem/SIAOD/Labs/Lab%205/Lab5%20%282%29.ipynb#ch0000011?line=9'>10</a>\u001b[0m turtle\u001b[39m.\u001b[39;49mdone()\n",
      "File \u001b[1;32m<string>:5\u001b[0m, in \u001b[0;36mmainloop\u001b[1;34m()\u001b[0m\n",
      "\u001b[1;31mTerminator\u001b[0m: "
     ]
    }
   ],
   "source": [
    "%%capture\n",
    "\n",
    "tree_axiom = '0'\n",
    "tree_rules = {'1':'11', '0':'1[0]0'}\n",
    "angle = 120\n",
    "step = 35\n",
    "iters = 10\n",
    "delimiter = 2**(iters-1)\n",
    "setup_turtle()\n",
    "turtle.setworldcoordinates(0, -35, 70, 35)\n",
    "draw(iterate_rules(tree_axiom, tree_rules, iters), step/delimiter, angle)\n",
    "turtle.done()"
   ]
  },
  {
   "cell_type": "code",
   "execution_count": 10,
   "metadata": {},
   "outputs": [
    {
     "ename": "Terminator",
     "evalue": "",
     "output_type": "error",
     "traceback": [
      "\u001b[1;31m---------------------------------------------------------------------------\u001b[0m",
      "\u001b[1;31mTerminator\u001b[0m                                Traceback (most recent call last)",
      "\u001b[1;32mc:\\Users\\klepotop\\YandexDisk\\Ucheba\\4 sem\\SIAOD\\Labs\\Lab 5\\Lab5 (2).ipynb Cell 13'\u001b[0m in \u001b[0;36m<cell line: 10>\u001b[1;34m()\u001b[0m\n\u001b[0;32m      <a href='vscode-notebook-cell:/c%3A/Users/klepotop/YandexDisk/Ucheba/4%20sem/SIAOD/Labs/Lab%205/Lab5%20%282%29.ipynb#ch0000012?line=7'>8</a>\u001b[0m turtle\u001b[39m.\u001b[39msetworldcoordinates(\u001b[39m0\u001b[39m, \u001b[39m0\u001b[39m, \u001b[39m70\u001b[39m, \u001b[39m70\u001b[39m)\n\u001b[0;32m      <a href='vscode-notebook-cell:/c%3A/Users/klepotop/YandexDisk/Ucheba/4%20sem/SIAOD/Labs/Lab%205/Lab5%20%282%29.ipynb#ch0000012?line=8'>9</a>\u001b[0m draw(iterate_rules(serp_tr_axiom, serp_tr_rules, iters), step\u001b[39m/\u001b[39mdelimiter, angle)\n\u001b[1;32m---> <a href='vscode-notebook-cell:/c%3A/Users/klepotop/YandexDisk/Ucheba/4%20sem/SIAOD/Labs/Lab%205/Lab5%20%282%29.ipynb#ch0000012?line=9'>10</a>\u001b[0m turtle\u001b[39m.\u001b[39;49mdone()\n",
      "File \u001b[1;32m<string>:5\u001b[0m, in \u001b[0;36mmainloop\u001b[1;34m()\u001b[0m\n",
      "\u001b[1;31mTerminator\u001b[0m: "
     ]
    }
   ],
   "source": [
    "%%capture\n",
    "\n",
    "serp_tr_axiom = 'F-G-G'\n",
    "serp_tr_rules = {'F':'F-G+F+G-F', 'G':'GG', '+':'+', '-':'-'}\n",
    "angle = 120\n",
    "step = 35\n",
    "iters = 9\n",
    "delimiter = 2**(iters-1)\n",
    "setup_turtle()\n",
    "turtle.setworldcoordinates(0, 0, 70, 70)\n",
    "draw(iterate_rules(serp_tr_axiom, serp_tr_rules, iters), step/delimiter, angle)\n",
    "turtle.done()"
   ]
  },
  {
   "cell_type": "code",
   "execution_count": 5,
   "metadata": {},
   "outputs": [],
   "source": [
    "setup_turtle()\n",
    "\n",
    "def draw_carpet(size, iter):\n",
    "\n",
    "    if iter == 0:\n",
    "\n",
    "        # turtle.pendown()\n",
    "        # turtle.begin_fill()\n",
    "        for _ in range(4):\n",
    "            turtle.forward(size)\n",
    "            turtle.left(90)\n",
    "        # turtle.end_fill()\n",
    "    else:\n",
    "        for i in range(4):\n",
    "            for _ in range(2):\n",
    "                draw_carpet(size/3, iter-1)\n",
    "                # turtle.update()\n",
    "                turtle.forward(size/3)\n",
    "            turtle.forward(size/3)\n",
    "            turtle.left(90)\n",
    "        turtle.update()\n",
    "\n",
    "setup_turtle()\n",
    "turtle.setworldcoordinates(0, 0, 70, 70)\n",
    "draw_carpet(70,5)\n",
    "# turtle.bye()\n",
    "turtle.done()\n"
   ]
  },
  {
   "cell_type": "code",
   "execution_count": null,
   "metadata": {},
   "outputs": [],
   "source": [
    "from time import perf_counter_ns as timer\n",
    "\n",
    "results = {}"
   ]
  },
  {
   "cell_type": "code",
   "execution_count": null,
   "metadata": {},
   "outputs": [],
   "source": [
    "start = timer()\n",
    "end = timer()\n",
    "koch_axiom = \"F\"\n",
    "koch_rules = {\"F\":\"F-F++F-F\"}\n",
    "angle = 60\n",
    "step = 34\n",
    "iters = 0\n",
    "delimiter = 3**iters\n",
    "iters_dict = {}\n",
    "\n",
    "while end - start < 1 * 10**9:\n",
    "    # setup_turtle()  \n",
    "    start = timer()\n",
    "    iterate_rules(koch_axiom, koch_rules, iters)\n",
    "    # turtle.bye()\n",
    "    end = timer()\n",
    "    iters_dict.update({iters:end-start})\n",
    "    iters += 1  \n",
    "    print(end - start)\n",
    "results.update(dict(Кривая_Коха=iters_dict))\n",
    "for \n"
   ]
  },
  {
   "cell_type": "code",
   "execution_count": null,
   "metadata": {},
   "outputs": [],
   "source": [
    "start = timer()\n",
    "end = timer()\n",
    "hilbert_axiom = 'A'\n",
    "hilbert_rules = {\"A\": \"-BF+AFA+FB-\", \"B\": \"+AF-BFB-FA+\"}\n",
    "angle = 90\n",
    "step = 34\n",
    "iters = 11\n",
    "delimiter = 1\n",
    "if iters > 1:\n",
    "    for _ in range(iters-1):\n",
    "        delimiter *= 2\n",
    "        delimiter += 1\n",
    "\n",
    "iters_dict = {}\n",
    "while end - start < 1 * 10**9:\n",
    "    # setup_turtle()\n",
    "    start = timer()\n",
    "    iterate_rules(hilbert_axiom, hilbert_rules, iters)\n",
    "    end = timer()\n",
    "    iters_dict.update({iters:end-start})\n",
    "    iters += 1\n",
    "    print(end - start)\n",
    "results.update(dict(Кривая_Гильберта=iters_dict))\n"
   ]
  },
  {
   "cell_type": "code",
   "execution_count": null,
   "metadata": {},
   "outputs": [],
   "source": [
    "start = timer()\n",
    "end = timer()\n",
    "serp_curve_axiom = 'F--XF--F--XF'\n",
    "serp_curve_rules = {\"X\":\"XF+G+XF--F--XF+G+X\", \"F\":\"F\", \"G\":\"G\", \"+\":\"+\", \"-\":\"-\"}\n",
    "angle = 45\n",
    "step = 17\n",
    "iters = 10\n",
    "delimiter = (2/3) * (1 + 2**0.5) * 2**iters - (1/3)*(2-2**0.5) * (1/(2**iters))\n",
    "\n",
    "iters_dict = {}\n",
    "while end - start < 1 * 10**9:\n",
    "    # setup_turtle()\n",
    "    start = timer()\n",
    "    iterate_rules(serp_curve_axiom, serp_curve_rules, iters)\n",
    "    end = timer()\n",
    "    iters_dict.update({iters:end-start})\n",
    "    print(end - start)\n",
    "    iters += 1\n",
    "results.update(dict(Кривая_Серпинского=iters_dict))"
   ]
  },
  {
   "cell_type": "code",
   "execution_count": null,
   "metadata": {},
   "outputs": [],
   "source": [
    "start = timer()\n",
    "end = timer()\n",
    "tree_axiom = '0'\n",
    "tree_rules = {'1':'11', '0':'1[0]0'}\n",
    "angle = 120\n",
    "step = 17\n",
    "iters = 0\n",
    "delimiter = 2**(iters-1)\n",
    "\n",
    "iters_dict = {}\n",
    "while end - start < 1 * 10**9:\n",
    "    start = timer()\n",
    "    iterate_rules(tree_axiom, tree_rules, iters)\n",
    "    end = timer()\n",
    "    iters_dict.update({iters:end-start})\n",
    "    iters += 1\n",
    "    print(end - start)\n",
    "results.update(dict(Дерево_Пифагора=iters_dict))"
   ]
  },
  {
   "cell_type": "code",
   "execution_count": null,
   "metadata": {},
   "outputs": [],
   "source": [
    "start = timer()\n",
    "end = timer()\n",
    "serp_tr_axiom = 'F-G-G'\n",
    "serp_tr_rules = {'F':'F-G+F+G-F', 'G':'GG', '+':'+', '-':'-'}\n",
    "angle = 120\n",
    "step = 17\n",
    "iters = 0\n",
    "delimiter = 2**(iters-1)\n",
    "\n",
    "iters_dict = {}\n",
    "while end - start < 10 * 10**9:\n",
    "    start = timer()\n",
    "    iterate_rules(serp_tr_axiom, serp_tr_rules, iters)\n",
    "    end = timer()\n",
    "    iters_dict.update({iters:end-start})\n",
    "    iters += 1\n",
    "    print(end - start)\n",
    "results.update(dict(Дерево_Пифагора=iters_dict))"
   ]
  },
  {
   "cell_type": "code",
   "execution_count": null,
   "metadata": {},
   "outputs": [],
   "source": [
    "setup_turtle()"
   ]
  },
  {
   "cell_type": "code",
   "execution_count": null,
   "metadata": {},
   "outputs": [],
   "source": [
    "start = timer()\n",
    "end = timer()\n",
    "iters = 6\n",
    "while end - start < 1 * 10**9:\n",
    "    start = timer()\n",
    "    draw_carpet(17,iters)\n",
    "    end = timer()\n",
    "    iters_dict.update({iters:end-start})\n",
    "    iters += 1\n",
    "    print(end - start)"
   ]
  },
  {
   "cell_type": "markdown",
   "metadata": {
    "id": "diOb-K7LnO5a"
   },
   "source": [
    "### Вывод"
   ]
  },
  {
   "cell_type": "markdown",
   "metadata": {},
   "source": []
  }
 ],
 "metadata": {
  "colab": {
   "collapsed_sections": [],
   "name": "Lab5.ipynb",
   "provenance": []
  },
  "interpreter": {
   "hash": "26de051ba29f2982a8de78e945f0abaf191376122a1563185a90213a26c5da77"
  },
  "kernelspec": {
   "display_name": "Python 3.10.4 64-bit",
   "language": "python",
   "name": "python3"
  },
  "language_info": {
   "codemirror_mode": {
    "name": "ipython",
    "version": 3
   },
   "file_extension": ".py",
   "mimetype": "text/x-python",
   "name": "python",
   "nbconvert_exporter": "python",
   "pygments_lexer": "ipython3",
   "version": "3.10.4"
  }
 },
 "nbformat": 4,
 "nbformat_minor": 1
}
