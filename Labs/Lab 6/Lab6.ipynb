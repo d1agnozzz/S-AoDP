{
 "cells": [
  {
   "cell_type": "markdown",
   "metadata": {
    "id": "0z3KlfKDn4_K"
   },
   "source": [
    "# Лабораторная работа 6. \n",
    "# Сетевые алгоритмы. Динамические алгоритмы поиска путей.\n"
   ]
  },
  {
   "cell_type": "markdown",
   "metadata": {
    "id": "96Gi_LEvmSVH"
   },
   "source": [
    "## Выполнил студент группы ФИО ГРУППА\n",
    "***"
   ]
  },
  {
   "cell_type": "markdown",
   "metadata": {
    "id": "GjdIp8aToKIe"
   },
   "source": [
    "### Задание\n",
    "\n",
    "1.  Реализовать алгоритм поиска кратчайшего расстояния между двумя вершинами ориентированного взвешенного графа в соответствии с вариантом. \n",
    "\n",
    "2.  Предусмотреть задание графа в виде матрицы смежности/инцидентности, читаемой из файла, либо графически с помощью пользовательского интерфейса. \n",
    "\n",
    "3.  Разработать графический интерфейс пользователя с визуализацией графа и отображением кратчайшего расстояния между задаваемыми пользователем вершинами.\n",
    "\n",
    "4. По результатам работы проанализировать временную сложность работы заданного алгоритма в зависимости от числа узлов и ребер графа.\n",
    "Данные представить в виде таблицы.\n",
    "\n"
   ]
  },
  {
   "cell_type": "markdown",
   "metadata": {
    "id": "LhhUXrAmotIA"
   },
   "source": [
    "### Алгоритмы:\n",
    "\n",
    "Алгоритм Флойда-Уоршелла| Алгоритм Дейкстры | Алгоритм Беллмана-Форда | Алгоритм Джонсона| Алгоритм Левита | Алгоритм Йена\n",
    "\n"
   ]
  },
  {
   "cell_type": "markdown",
   "metadata": {
    "id": "Wggfn8l7nG72"
   },
   "source": [
    "### Выполнение:"
   ]
  },
  {
   "cell_type": "code",
   "execution_count": 29,
   "metadata": {},
   "outputs": [],
   "source": [
    "from graph2 import Graph\n",
    "from tabulate import tabulate\n",
    "from copy import deepcopy\n",
    "import math\n",
    "INF = math.inf\n",
    "import pandas as pd\n",
    "\n",
    "def pretty_print_matrix(matrix):\n",
    "    print(pd.DataFrame(matrix))"
   ]
  },
  {
   "cell_type": "markdown",
   "metadata": {},
   "source": [
    "#### Алгоритм Флойда-Уоршелла"
   ]
  },
  {
   "cell_type": "code",
   "execution_count": 17,
   "metadata": {
    "id": "681a95mZnOSa"
   },
   "outputs": [],
   "source": [
    "def floydWarshall(graph: Graph, v1: str, v2: str):\n",
    "    dist = graph.generate_DataFrame()\n",
    "\n",
    "    vertices = graph.unique_vertices()\n",
    "\n",
    "    for k in vertices:\n",
    "        for i in vertices:\n",
    "            for j in vertices:\n",
    "                dist.at[i, j] = min(dist.at[i, j], dist.at[i, k] + dist.at[k, j])\n",
    "    return dist"
   ]
  },
  {
   "cell_type": "code",
   "execution_count": 18,
   "metadata": {},
   "outputs": [
    {
     "name": "stdout",
     "output_type": "stream",
     "text": [
      "     0    1    2    3\n",
      "0  0.0  5.0  8.0  9.0\n",
      "1  inf  0.0  3.0  4.0\n",
      "2  inf  inf  0.0  1.0\n",
      "3  inf  inf  inf  0.0\n"
     ]
    }
   ],
   "source": [
    "matrix = [[0, 5, INF, 10],\n",
    "         [INF, 0, 3, INF],\n",
    "         [INF, INF, 0,   1],\n",
    "         [INF, INF, INF, 0]\n",
    "         ]\n",
    "''' Output:\n",
    "      0      5      8      9\n",
    "    INF      0      3      4\n",
    "    INF    INF      0      1\n",
    "    INF    INF    INF      0\n",
    "'''\n",
    "\n",
    "graph = Graph()\n",
    "graph.from_matrix(matrix)\n",
    "dist = floydWarshall(graph, \"0\", \"1\")\n",
    "pretty_print_matrix(dist)\n",
    "pass"
   ]
  },
  {
   "cell_type": "markdown",
   "metadata": {},
   "source": [
    "#### Алгоритм Дейкстры"
   ]
  },
  {
   "cell_type": "code",
   "execution_count": 19,
   "metadata": {},
   "outputs": [],
   "source": [
    "def min_distance(dist, unchecked):\n",
    "    min_index = dist.where(unchecked).idxmin()\n",
    "\n",
    "    return min_index\n",
    "\n",
    "def dijkstra(graph: Graph, source: str, destination: str = None): \n",
    "    # convert to labeled adjacency matrix\n",
    "    df = graph.generate_DataFrame()\n",
    "\n",
    "    \n",
    "    vertices = sorted(graph.unique_vertices())\n",
    "    size = graph.size()\n",
    "\n",
    "    # array with shortest distations to points\n",
    "    dist = pd.Series([math.inf] * size, index = vertices)\n",
    "    dist[source] = 0\n",
    "    prev = pd.Series([None] * size, index = vertices)\n",
    "    # keep track of already found shortest distations\n",
    "    unchecked = pd.Series([True] * size, index = vertices)\n",
    "\n",
    "    # repeat for every unchecked minimum current distance vertex\n",
    "    for _ in range(size):\n",
    "        x = min_distance(dist, unchecked)\n",
    "\n",
    "        unchecked[x] = False\n",
    "\n",
    "        for y in vertices:\n",
    "            if unchecked[y] and dist[y] > dist[x] + df.at[x, y]:\n",
    "                dist[y] = dist[x] + df.at[x, y]\n",
    "                prev[y] = x\n",
    "\n",
    "    if destination == None:\n",
    "        return dist\n",
    "    else:\n",
    "        # build path from source to destination via prev[]\n",
    "        path = list()\n",
    "        u = destination\n",
    "        if prev[u] != None or u == source:\n",
    "            while u != None:\n",
    "                path.insert(0, u)\n",
    "                u = prev[u]\n",
    "\n",
    "        return (path, dist[destination])"
   ]
  },
  {
   "cell_type": "code",
   "execution_count": 22,
   "metadata": {},
   "outputs": [
    {
     "name": "stdout",
     "output_type": "stream",
     "text": [
      "0     0.0\n",
      "1     4.0\n",
      "2    12.0\n",
      "3    19.0\n",
      "4    21.0\n",
      "5    11.0\n",
      "6     9.0\n",
      "7     8.0\n",
      "8    14.0\n",
      "dtype: float64\n"
     ]
    }
   ],
   "source": [
    "matrix = [[0, 4, 0, 0, 0, 0, 0, 8, 0],\n",
    "        [4, 0, 8, 0, 0, 0, 0, 11, 0],\n",
    "        [0, 8, 0, 7, 0, 4, 0, 0, 2],\n",
    "        [0, 0, 7, 0, 9, 14, 0, 0, 0],\n",
    "        [0, 0, 0, 9, 0, 10, 0, 0, 0],\n",
    "        [0, 0, 4, 14, 10, 0, 2, 0, 0],\n",
    "        [0, 0, 0, 0, 0, 2, 0, 1, 6],\n",
    "        [8, 11, 0, 0, 0, 0, 1, 0, 7],\n",
    "        [0, 0, 2, 0, 0, 0, 6, 7, 0]\n",
    "        ]\n",
    "    \n",
    "'''\n",
    "Vertex   Distance from Source\n",
    "0                0\n",
    "1                4\n",
    "2                12\n",
    "3                19\n",
    "4                21\n",
    "5                11\n",
    "6                9\n",
    "7                8\n",
    "8                14\n",
    "'''\n",
    "\n",
    "graph = Graph()\n",
    "graph.from_matrix(matrix)\n",
    "\n",
    "result = dijkstra(graph, '0')\n",
    "\n",
    "print(result)"
   ]
  },
  {
   "cell_type": "markdown",
   "metadata": {},
   "source": [
    "#### Алгоритм Беллмана-Форда"
   ]
  },
  {
   "cell_type": "code",
   "execution_count": 24,
   "metadata": {},
   "outputs": [],
   "source": [
    "def bellmanFord(graph: Graph, source: str, destination: str = None):\n",
    "    # convert to labeled adjacency matrix\n",
    "    df = graph.generate_DataFrame()\n",
    "\n",
    "    vertices = sorted(graph.unique_vertices())\n",
    "    size = graph.size()\n",
    "\n",
    "    # array for mimimal distances from source to other vertices\n",
    "    dist = pd.Series([math.inf] * size, index = vertices)\n",
    "    dist[source] = 0\n",
    "\n",
    "\n",
    "    for _ in range(size-1):\n",
    "        for u in vertices:\n",
    "            for v in graph.neighbors(u).keys():\n",
    "                if dist[u] != math.inf and dist[u] + df.at[u, v] < dist[v]:\n",
    "                    dist[v] = dist[u] + df.at[u, v]\n",
    "\n",
    "    # check for negative cycles (if there is one, found distance will be incorrect)\n",
    "    for u in vertices:\n",
    "        for v in graph.neighbors(u).keys():\n",
    "            if dist[u] != math.inf and dist[u] + df.at[u, v] < dist[v]:\n",
    "                print(\"Graph contains negative weight cycle\")\n",
    "                return\n",
    "\n",
    "    if destination == None:\n",
    "        return dist\n",
    "    return dist[destination]"
   ]
  },
  {
   "cell_type": "code",
   "execution_count": 25,
   "metadata": {},
   "outputs": [
    {
     "name": "stdout",
     "output_type": "stream",
     "text": [
      "+----+-----+-----+-----+-----+-----+\n",
      "|    |   0 |   1 |   2 |   3 |   4 |\n",
      "|----+-----+-----+-----+-----+-----|\n",
      "|  0 |   0 |  -1 |   2 |  -2 |   1 |\n",
      "+----+-----+-----+-----+-----+-----+\n"
     ]
    }
   ],
   "source": [
    "graph = Graph()\n",
    "graph.add_edge_oriented(\"0\", \"1\", -1)\n",
    "graph.add_edge_oriented(\"0\", \"2\", 4)\n",
    "graph.add_edge_oriented(\"1\", \"2\", 3)\n",
    "graph.add_edge_oriented(\"1\", \"3\", 2)\n",
    "graph.add_edge_oriented(\"1\", \"4\", 2)\n",
    "graph.add_edge_oriented(\"3\", \"2\", 5)\n",
    "graph.add_edge_oriented(\"3\", \"1\", 1)\n",
    "graph.add_edge_oriented(\"4\", \"3\", -3)\n",
    "\n",
    "''' OUTPUT\n",
    "Vertex   Distance from Source\n",
    "0                0\n",
    "1                -1\n",
    "2                2\n",
    "3                -2\n",
    "4                1\n",
    "'''\n",
    "\n",
    "print(tabulate(bellmanFord(graph, '0').to_frame().transpose(), headers = 'keys', tablefmt='psql'))"
   ]
  },
  {
   "cell_type": "markdown",
   "metadata": {},
   "source": [
    "#### Алгоритм Джонсона"
   ]
  },
  {
   "cell_type": "code",
   "execution_count": 26,
   "metadata": {},
   "outputs": [],
   "source": [
    "def johnson(graph: Graph, v1: str = None, v2: str = None):\n",
    "    # copy original graph for modifications\n",
    "    modified = deepcopy(graph)\n",
    "\n",
    "    # add extra vertex with edges with 0 weight to all original vertices\n",
    "    mod_source = '@'\n",
    "    modified.add_vertex(mod_source)\n",
    "    vertices = sorted(graph.unique_vertices())\n",
    "    for v in vertices:\n",
    "        modified.add_edge_oriented(mod_source, v, 0)\n",
    "\n",
    "    # calculate bellman-ford table with that extra vertex as a source\n",
    "    h = bellmanFord(modified, mod_source)\n",
    "\n",
    "    # remove that extra verex\n",
    "    modified.remove_vertex(mod_source)\n",
    "\n",
    "    # update weights with b.-ford table to avoid negative weights\n",
    "    for u in vertices:\n",
    "        for v in modified.neighbors(u):\n",
    "            new_weight = modified.get_dist(u, v) + h[u] - h[v]\n",
    "            modified.add_edge_oriented(u, v, new_weight)\n",
    "\n",
    "    # use dejikstra for resulting modified graph \n",
    "    if v1 != None:\n",
    "        return dijkstra(modified, v1, v2)\n",
    "    else:\n",
    "        dijkstra_complete = dijkstra(modified, vertices[0])\n",
    "        for v in vertices[1:]:\n",
    "            current_dijkstra = dijkstra(modified, v).to_frame()\n",
    "            current_dijkstra.columns = [v]\n",
    "            dijkstra_complete = pd.concat([dijkstra_complete, current_dijkstra], axis = 1)\n",
    "        return dijkstra_complete.transpose()"
   ]
  },
  {
   "cell_type": "code",
   "execution_count": 30,
   "metadata": {},
   "outputs": [
    {
     "name": "stdout",
     "output_type": "stream",
     "text": [
      "     0    1    2    3    4\n",
      "0  0.0  0.0  1.0  1.0  0.0\n",
      "1  3.0  0.0  1.0  4.0  3.0\n",
      "2  2.0  2.0  0.0  3.0  2.0\n",
      "3  inf  inf  inf  0.0  5.0\n",
      "4  inf  inf  inf  inf  0.0\n"
     ]
    }
   ],
   "source": [
    "graph = Graph()\n",
    "\n",
    "matrix = [[0, -4, INF, 1, -2],\n",
    "          [INF, 0, 5, INF, INF],\n",
    "          [2, INF, 0, INF, INF],\n",
    "          [INF, INF, INF, 0, 3],\n",
    "          [INF, INF, INF, INF, 0]]\n",
    "\n",
    "# ''' OUTPUT\n",
    "#     0   0   1   1   0\n",
    "#     3   0   1   4   3\n",
    "#     2   2   0   3   2\n",
    "#     inf inf inf 0   5\n",
    "#     inf inf inf inf 0\n",
    "# '''\n",
    "\n",
    "graph.from_matrix(matrix)\n",
    "\n",
    "print(johnson(graph))"
   ]
  },
  {
   "cell_type": "code",
   "execution_count": 31,
   "metadata": {},
   "outputs": [],
   "source": [
    "def levit(graph: Graph, source: str, destination: str = None):\n",
    "    df = graph.generate_DataFrame()\n",
    "    vertices = sorted(graph.unique_vertices())\n",
    "    size = len(vertices)\n",
    "\n",
    "    dist = pd.Series([math.inf] * size, index = vertices)\n",
    "    dist[source] = 0\n",
    "\n",
    "    # checked\n",
    "    M0 = set()\n",
    "    # current\n",
    "    M1 = list()\n",
    "    M1.append(source)\n",
    "    # current urgent\n",
    "    M1u = list()\n",
    "    # unchecked yet\n",
    "    M2 = set()\n",
    "    for v in vertices:\n",
    "        if v != source:\n",
    "            M2.add(v)\n",
    "\n",
    "    while len(M1) != 0:\n",
    "        u = M1u.pop(0) if len(M1u) != 0 else M1.pop(0)\n",
    "\n",
    "        for v in graph.neighbors(u):\n",
    "            if v in M2:\n",
    "                dist[v] = dist[u] + graph.get_dist(u, v)\n",
    "                M1.append(v)\n",
    "                M2.remove(v)\n",
    "            elif v in M1:\n",
    "                dist[v] = min(dist[v], dist[u] + graph.get_dist(u, v))\n",
    "            elif v in M0 and dist[v] > dist[u] + graph.get_dist(u, v):\n",
    "                dist[v] = dist[u] + graph.get_dist(u, v)\n",
    "                M1u.append(v)\n",
    "                M0.remove(v)\n",
    "        \n",
    "        M0.add(u)\n",
    "\n",
    "    return dist"
   ]
  },
  {
   "cell_type": "code",
   "execution_count": 32,
   "metadata": {},
   "outputs": [
    {
     "name": "stdout",
     "output_type": "stream",
     "text": [
      "1    0.0\n",
      "2   -8.0\n",
      "3   -6.0\n",
      "4   -4.0\n",
      "dtype: float64\n"
     ]
    }
   ],
   "source": [
    "graph = Graph()\n",
    "\n",
    "graph.add_edge_oriented('1', '2', 5)\n",
    "graph.add_edge_oriented('1', '3', -6)\n",
    "graph.add_edge_oriented('2', '3', 7)\n",
    "graph.add_edge_oriented('2', '4', 4)\n",
    "graph.add_edge_oriented('3', '2', -2)\n",
    "graph.add_edge_oriented('3', '4', 6)\n",
    "\n",
    "''' OUTPUT\n",
    " 0 \n",
    "-8\n",
    "-6\n",
    "-4\n",
    "'''\n",
    "\n",
    "print(levit(graph, '1'))"
   ]
  },
  {
   "cell_type": "code",
   "execution_count": 34,
   "metadata": {},
   "outputs": [],
   "source": [
    "def yen(graph: Graph, source: str, destination: str, paths: int):\n",
    "    path, distance = dijkstra(graph, source, destination)\n",
    "    original_path = path.copy()\n",
    "    # all shortest paths\n",
    "    A = list()\n",
    "    A.append(path)\n",
    "    lengths = list()\n",
    "    # potential shortest path\n",
    "    B = list()\n",
    "\n",
    "    for k in range(1, paths):\n",
    "        for i in range(len(A[-1])-1):\n",
    "            modified = deepcopy(graph)\n",
    "            # modified.remove_edge_oriented(original_path[i], original_path[i+1])\n",
    "            spur_node = A[-1][i]\n",
    "            root_path = A[-1][:i+1]\n",
    "\n",
    "            whole_distance = 0\n",
    "            for ind, v in enumerate(root_path[:-1]):\n",
    "                whole_distance += modified.get_dist(v, root_path[ind-1])\n",
    "\n",
    "            for paths in A:\n",
    "                if root_path == paths[:i+1]:\n",
    "                    modified.remove_edge_oriented(paths[i], paths[i+1])\n",
    "            \n",
    "            for vertex in root_path:\n",
    "                if vertex != spur_node:\n",
    "                    modified.remove_vertex(vertex)\n",
    "                \n",
    "            spur_path, distance = dijkstra(modified, spur_node, destination)\n",
    "            if len(spur_path) < 1:\n",
    "                continue\n",
    "\n",
    "            total_path = root_path[:-1] + spur_path\n",
    "            if total_path not in B:\n",
    "                B.append((total_path, whole_distance + distance))\n",
    "\n",
    "        if len(B) == 0:\n",
    "            break\n",
    "        sorted_B = B\n",
    "        B.sort(key = lambda x: x[1])\n",
    "        A.append(sorted_B[0][0])\n",
    "        lengths.append(sorted_B[0][1])\n",
    "        B.remove(sorted_B[0])\n",
    "    return (A, lengths)"
   ]
  },
  {
   "cell_type": "code",
   "execution_count": 35,
   "metadata": {},
   "outputs": [
    {
     "name": "stdout",
     "output_type": "stream",
     "text": [
      "([['c', 'e', 'f', 'h'], ['c', 'e', 'g', 'h'], ['c', 'd', 'f', 'h'], ['c', 'd', 'f', 'h'], ['c', 'e', 'd', 'f', 'h']], [7.0, 8.0, 8.0, 8.0])\n"
     ]
    }
   ],
   "source": [
    "graph = Graph()\n",
    "graph.add_edge_oriented('c', 'd', 3)\n",
    "graph.add_edge_oriented('c', 'e', 2)\n",
    "graph.add_edge_oriented('e', 'd', 1)\n",
    "graph.add_edge_oriented('e', 'f', 2)\n",
    "graph.add_edge_oriented('e', 'g', 3)\n",
    "graph.add_edge_oriented('d', 'f', 4)\n",
    "graph.add_edge_oriented('f', 'g', 2)\n",
    "graph.add_edge_oriented('f', 'h', 1)\n",
    "graph.add_edge_oriented('g', 'h', 2)\n",
    "\n",
    "# source: wikipedia\n",
    "print(yen(graph, 'c', 'h', 5))"
   ]
  },
  {
   "cell_type": "markdown",
   "metadata": {},
   "source": [
    "### Тестирование"
   ]
  },
  {
   "cell_type": "code",
   "execution_count": 37,
   "metadata": {},
   "outputs": [],
   "source": [
    "import random\n",
    "from time import perf_counter_ns as timer\n",
    "def generate_adj_matrix(size: int):\n",
    "    matrix = [[math.inf for i in range(size)] for j in range(size)]\n",
    "    for i, x in enumerate(matrix):\n",
    "        for j, y in enumerate(matrix):\n",
    "            if i != j and random.random() < 1/3:\n",
    "                matrix[i][j] = random.randint(1, 20)\n",
    "    return matrix"
   ]
  },
  {
   "cell_type": "code",
   "execution_count": null,
   "metadata": {},
   "outputs": [],
   "source": [
    "graph = Graph()\n",
    "for _ in range(20):\n",
    "    \n",
    "graph.from_matrix(gener)"
   ]
  },
  {
   "cell_type": "markdown",
   "metadata": {
    "id": "diOb-K7LnO5a"
   },
   "source": [
    "### Вывод"
   ]
  }
 ],
 "metadata": {
  "colab": {
   "name": "Lab6.ipynb",
   "provenance": []
  },
  "interpreter": {
   "hash": "26de051ba29f2982a8de78e945f0abaf191376122a1563185a90213a26c5da77"
  },
  "kernelspec": {
   "display_name": "Python 3.10.4 64-bit",
   "language": "python",
   "name": "python3"
  },
  "language_info": {
   "codemirror_mode": {
    "name": "ipython",
    "version": 3
   },
   "file_extension": ".py",
   "mimetype": "text/x-python",
   "name": "python",
   "nbconvert_exporter": "python",
   "pygments_lexer": "ipython3",
   "version": "3.10.4"
  }
 },
 "nbformat": 4,
 "nbformat_minor": 1
}
