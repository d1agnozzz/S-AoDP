{
 "cells": [
  {
   "cell_type": "markdown",
   "id": "244314fb",
   "metadata": {},
   "source": [
    "# Задание 1"
   ]
  },
  {
   "cell_type": "markdown",
   "id": "64630386",
   "metadata": {},
   "source": [
    "Даны две строки: `s1` и `s2` с одинаковым размером.\n",
    "\n",
    "Проверьте, может ли некоторая перестановка строки `s1` “победить” некоторую перестановку строки `s2` или наоборот.\n",
    "\n",
    "Строка x может “победить” строку y (обе имеют размер n), если `x[i] >= y[i]` (в алфавитном порядке) для всех i от 0 до n-1."
   ]
  },
  {
   "cell_type": "markdown",
   "id": "cf51dab2",
   "metadata": {},
   "source": [
    "## Ввод"
   ]
  },
  {
   "cell_type": "markdown",
   "id": "d697a747",
   "metadata": {},
   "source": [
    "`abc`\n",
    "`xya`"
   ]
  },
  {
   "cell_type": "markdown",
   "id": "50b10a2e",
   "metadata": {},
   "source": [
    "## Вывод"
   ]
  },
  {
   "cell_type": "markdown",
   "id": "55442a49",
   "metadata": {},
   "source": [
    "`True`\n",
    "\n",
    "### Исполняемый код записать в ячейку ниже:"
   ]
  },
  {
   "cell_type": "code",
   "execution_count": 18,
   "id": "3b0d440a",
   "metadata": {},
   "outputs": [
    {
     "name": "stdout",
     "output_type": "stream",
     "text": [
      "True\n"
     ]
    }
   ],
   "source": [
    "def permatation_alphabetical(s1: str, s2: str):\n",
    "    s1_in_order = sorted(s1)\n",
    "    s2_in_order = sorted(s2)\n",
    "\n",
    "    for i in range(len(s1)):\n",
    "        if s1_in_order[i] > s2_in_order[i]:\n",
    "            return False\n",
    "\n",
    "    return True\n",
    "\n",
    "\n",
    "s1 = \"axy\"\n",
    "s2 = \"cyz\"\n",
    "\n",
    "print(permatation_alphabetical(s1, s2))"
   ]
  },
  {
   "cell_type": "markdown",
   "id": "b3a969a6",
   "metadata": {},
   "source": [
    "# Задание 2"
   ]
  },
  {
   "cell_type": "markdown",
   "id": "9c1ce05d",
   "metadata": {},
   "source": [
    "Дана строка `s`, вернуть самую длинную полиндромную подстроку в `s`."
   ]
  },
  {
   "cell_type": "markdown",
   "id": "20415c0e",
   "metadata": {},
   "source": [
    "## Ввод"
   ]
  },
  {
   "cell_type": "markdown",
   "id": "e77fcb44",
   "metadata": {},
   "source": [
    "`babad`"
   ]
  },
  {
   "cell_type": "markdown",
   "id": "49996449",
   "metadata": {},
   "source": [
    "## Вывод"
   ]
  },
  {
   "cell_type": "markdown",
   "id": "75be2464",
   "metadata": {},
   "source": [
    "`aba` или `bab`"
   ]
  },
  {
   "cell_type": "markdown",
   "id": "12ef9771",
   "metadata": {},
   "source": [
    "## Исполняемый код записывать в ячейку ниже"
   ]
  },
  {
   "cell_type": "code",
   "execution_count": 17,
   "id": "3f06c4fc",
   "metadata": {},
   "outputs": [
    {
     "name": "stdout",
     "output_type": "stream",
     "text": [
      "ee eeeeeeeeeeeeeeeeeeeeeeeeeeeeeeeeeeeeeee ee\n",
      "bab\n",
      "bab\n",
      "madam\n"
     ]
    }
   ],
   "source": [
    "def longest_palindrome(s: str):\n",
    "    palindromes = set()\n",
    "    max_len = 0\n",
    "    for i in range(len(s)):\n",
    "        for j in range(len(s)-1, 0, -1):\n",
    "            if s[i] == s[j] and i != j and j - i + 1 > max_len:\n",
    "                front = i\n",
    "                back = j\n",
    "                while s[front] == s[back] and front < back:\n",
    "                    front += 1\n",
    "                    back -= 1\n",
    "                if (front == back or front == back - 1) and s[front] == s[back]:\n",
    "                    palindromes.add(s[i:j+1])\n",
    "                    max_len = j - i + 1\n",
    "    return max(palindromes, key = len)\n",
    "\n",
    "\n",
    "print(longest_palindrome('eeee ee eeeeeeeeeeeeeeeeeeeeeeeeeeeeeeeeeeeeeee eeee'))\n",
    "print(longest_palindrome('babad'))\n",
    "print(longest_palindrome('alibaba'))\n",
    "print(longest_palindrome('madam anna found dead at noon'))"
   ]
  },
  {
   "cell_type": "markdown",
   "id": "5f54b630",
   "metadata": {},
   "source": [
    "# Задание 3"
   ]
  },
  {
   "cell_type": "markdown",
   "id": "566f1d3b",
   "metadata": {},
   "source": [
    "Вернуть количество отдельных непустых подстрок текста, которые могут быть записаны как конкатенация некоторой строки с самой собой (т.е. она может быть записана, как `a + a`, где `a` - некоторая строка)."
   ]
  },
  {
   "cell_type": "markdown",
   "id": "0f734fd8",
   "metadata": {},
   "source": [
    "## Ввод"
   ]
  },
  {
   "cell_type": "markdown",
   "id": "e0be5554",
   "metadata": {},
   "source": [
    "`aabb`"
   ]
  },
  {
   "cell_type": "markdown",
   "id": "ab8eda0b",
   "metadata": {},
   "source": [
    "## Вывод"
   ]
  },
  {
   "cell_type": "markdown",
   "id": "1d716d36",
   "metadata": {},
   "source": [
    "2"
   ]
  },
  {
   "cell_type": "markdown",
   "id": "fcd91349",
   "metadata": {},
   "source": [
    "## Исполняемый код записывать в ячейку ниже"
   ]
  },
  {
   "cell_type": "code",
   "execution_count": 19,
   "id": "be07379d",
   "metadata": {},
   "outputs": [
    {
     "name": "stdout",
     "output_type": "stream",
     "text": [
      "1\n",
      "2\n",
      "2\n",
      "1\n",
      "2\n"
     ]
    }
   ],
   "source": [
    "def self_concat_quantity(s: str):\n",
    "    ans = 0\n",
    "    buffer_str = str()\n",
    "\n",
    "\n",
    "    for ind, char in enumerate(s):\n",
    "        if char in buffer_str:\n",
    "            # create current buffer for modifications\n",
    "            cur_buf = buffer_str\n",
    "            while char in cur_buf:\n",
    "                buf_ind = cur_buf.index(char)\n",
    "                # make buffer start with current char\n",
    "                while not cur_buf.startswith(char):\n",
    "                    cur_buf = cur_buf[buf_ind:]\n",
    "                # compare buffer with slice of original string\n",
    "                if cur_buf == s[ind:ind+len(cur_buf)] :\n",
    "                    ans += 1\n",
    "                # remove first left occurence of current char\n",
    "                cur_buf = cur_buf[buf_ind+1:]\n",
    "        buffer_str += char\n",
    "\n",
    "    return ans\n",
    "\n",
    "\n",
    "print(self_concat_quantity(\"aa\")) \n",
    "print(self_concat_quantity(\"aaa\")) \n",
    "print(self_concat_quantity(\"aabb\")) \n",
    "print(self_concat_quantity(\"abcabc\"))  \n",
    "print(self_concat_quantity(\"selfconcat1selfconcat1 DIVIDER selfconcat2selfconcat2\")) "
   ]
  }
 ],
 "metadata": {
  "interpreter": {
   "hash": "26de051ba29f2982a8de78e945f0abaf191376122a1563185a90213a26c5da77"
  },
  "kernelspec": {
   "display_name": "Python 3.10.4 64-bit",
   "language": "python",
   "name": "python3"
  },
  "language_info": {
   "codemirror_mode": {
    "name": "ipython",
    "version": 3
   },
   "file_extension": ".py",
   "mimetype": "text/x-python",
   "name": "python",
   "nbconvert_exporter": "python",
   "pygments_lexer": "ipython3",
   "version": "3.10.4"
  }
 },
 "nbformat": 4,
 "nbformat_minor": 5
}
