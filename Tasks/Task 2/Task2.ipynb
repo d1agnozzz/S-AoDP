{
 "cells": [
  {
   "cell_type": "markdown",
   "id": "arctic-stocks",
   "metadata": {},
   "source": [
    "### Задание №1\n",
    "Массив A состоит из целых положительных чисел длин отрезков. Составьте из трех отрезков такой треугольник, чтобы его периметр был максимально возможным. Если невозможно составить треугольник с положительной площадью функция возвращает 0."
   ]
  },
  {
   "cell_type": "code",
   "execution_count": 2,
   "id": "caring-truck",
   "metadata": {
    "scrolled": false
   },
   "outputs": [
    {
     "name": "stdout",
     "output_type": "stream",
     "text": [
      "9\n",
      "14\n"
     ]
    }
   ],
   "source": [
    "def validate_triangle(sides):\n",
    "    for ind, side in enumerate(sides):\n",
    "        second_side = sides[(ind+1)%3]\n",
    "        third_side = sides[(ind+2)%3]\n",
    "        if side >= second_side + third_side:\n",
    "            return False\n",
    "    return True\n",
    "\n",
    "def longest_perimeter(lengths):\n",
    "    sorted_lens = sorted(lengths)\n",
    "    candidates = sorted_lens[-1:-4:-1]\n",
    "    sorted_lens = sorted_lens[:-3]\n",
    "    \n",
    "    if validate_triangle(candidates):\n",
    "        return sum(candidates)\n",
    "\n",
    "    while  len(sorted_lens) != 0:\n",
    "        if validate_triangle(candidates):\n",
    "            return sum(candidates)\n",
    "        maxi = candidates.index(max(candidates))\n",
    "        candidates[maxi] = sorted_lens[-1]\n",
    "    \n",
    "    return 0\n",
    "        \n",
    "\n",
    "print(longest_perimeter([2, 2, 3, 4]))\n",
    "print(longest_perimeter([1, 2, 3, 4, 5, 5, 10]))\n",
    "        "
   ]
  },
  {
   "cell_type": "markdown",
   "id": "maritime-conversation",
   "metadata": {},
   "source": [
    "### Задание №2\n",
    "Дан массив неотрицательных целых чисел nums. Расположите их в таком порядке, чтобы вместе они образовали максимально возможное число. Замечание: Результат может быть очень большим числом, поэтому представьте его как string, а не integer."
   ]
  },
  {
   "cell_type": "code",
   "execution_count": 3,
   "id": "alert-charm",
   "metadata": {
    "scrolled": false
   },
   "outputs": [
    {
     "name": "stdout",
     "output_type": "stream",
     "text": [
      "95534330\n",
      "0\n",
      "343234323\n"
     ]
    }
   ],
   "source": [
    "def greaterThan(a: int, b: int):\n",
    "    first = str(a)\n",
    "    second = str(b)\n",
    "\n",
    "    min_len = min(len(first), len(second))\n",
    "\n",
    "    for digit_ind in range(min_len):\n",
    "        digit_a = int(first[digit_ind])\n",
    "        digit_b = int(second[digit_ind])\n",
    "\n",
    "        if digit_a > digit_b:\n",
    "            return True\n",
    "        elif digit_a == digit_b:\n",
    "            if digit_ind == min_len - 1:\n",
    "                if len(first) == len(second):\n",
    "                    return False \n",
    "\n",
    "                if len(first) < len(second):\n",
    "                    return greaterThan(int(first), int(second[min_len:]))\n",
    "                else:\n",
    "                    return greaterThan(int(first[min_len:]), int(second))\n",
    "        else:\n",
    "            return False\n",
    "\n",
    "def insertion_sort(nums):\n",
    "    for i in range(1, len(nums)):\n",
    "        j = i - 1\n",
    "        while j >= 0 and not greaterThan(nums[j], nums[j+1]):\n",
    "            nums[j], nums[j+1] = nums[j+1], nums[j]\n",
    "            j -= 1\n",
    "\n",
    "def maximize(ints):\n",
    "    result = str()\n",
    "    insertion_sort(ints)\n",
    "\n",
    "    for num in ints:\n",
    "        result += str(num)\n",
    "    \n",
    "    result = result.lstrip('0')\n",
    "\n",
    "    return result if result != '' else '0'\n",
    "\n",
    "print(maximize([5, 3, 30, 34, 5, 9]))\n",
    "print(maximize([0, 0]))\n",
    "print(maximize([34323, 3432]))"
   ]
  },
  {
   "cell_type": "markdown",
   "id": "catholic-roots",
   "metadata": {},
   "source": [
    "### Задание №3\n",
    "Дана матрица mat размером m * n, значения целочисленные. Напишите функцию, сортирующую каждую диагональ матрицы по возрастанию и возвращающую получившуюся матрицу."
   ]
  },
  {
   "cell_type": "code",
   "execution_count": 4,
   "id": "fb1def5e",
   "metadata": {},
   "outputs": [],
   "source": [
    "import numpy as np"
   ]
  },
  {
   "cell_type": "code",
   "execution_count": 5,
   "id": "cleared-anniversary",
   "metadata": {
    "scrolled": false
   },
   "outputs": [],
   "source": [
    "def get_diagonals(matrix):\n",
    "    diagonals = list()\n",
    "\n",
    "    rows = len(matrix)\n",
    "    cols = len(matrix[0])\n",
    "\n",
    "    # fill diagonals from first to right main\n",
    "    for i in range(cols):\n",
    "        col = i\n",
    "        row = 0\n",
    "        diagonal = list()\n",
    "        while col >= 0 and row < rows:\n",
    "            diagonal.append(matrix[row][col])\n",
    "            col -= 1\n",
    "            row += 1\n",
    "        diagonals.append(diagonal)\n",
    "\n",
    "    # fill diagonals from right main + 1 to last\n",
    "    for i in range(1, rows):\n",
    "        col = cols - 1\n",
    "        row = i\n",
    "        diagonal = list()\n",
    "        while cols >= 0 and row < rows:\n",
    "            diagonal.append(matrix[row][col])\n",
    "            col -= 1\n",
    "            row += 1\n",
    "        diagonals.append(diagonal)\n",
    "    \n",
    "    return diagonals"
   ]
  },
  {
   "cell_type": "code",
   "execution_count": 6,
   "id": "002ba6af",
   "metadata": {},
   "outputs": [],
   "source": [
    "def build_matrix_from_diagonals(diagonals, rows, cols):\n",
    "\n",
    "    matrix = list()\n",
    "    before_main = diagonals[:(len(diagonals)+1)//2]\n",
    "    after_main = diagonals[(len(diagonals)+1)//2:]\n",
    "\n",
    "    for row in range(rows):\n",
    "        matrix_row = list()\n",
    "\n",
    "        # fill N-th row with N-th number from every before main diagonal\n",
    "        for diag in before_main:\n",
    "            if len(diag) < row + 1:\n",
    "                continue\n",
    "            matrix_row.append(diag[row])\n",
    "\n",
    "        # fill N-th row with [row - 1 -> 0] element from [0 -> row - 1] diagonal\n",
    "        if row != 0:\n",
    "            diag = 0\n",
    "            ind = row - 1\n",
    "            for i in range(row):\n",
    "                matrix_row.append(after_main[diag][ind])\n",
    "                diag += 1\n",
    "                ind -= 1\n",
    "        matrix.append(matrix_row)\n",
    "    return np.matrix(matrix)"
   ]
  },
  {
   "cell_type": "code",
   "execution_count": 7,
   "id": "0a412567",
   "metadata": {},
   "outputs": [],
   "source": [
    "def sort_diagonals(matrix):\n",
    "    diagonals = get_diagonals(matrix)\n",
    "\n",
    "    diagonals = list(map(sorted, diagonals))\n",
    "\n",
    "    return build_matrix_from_diagonals(diagonals, len(matrix), len(matrix[0]))"
   ]
  },
  {
   "cell_type": "code",
   "execution_count": 8,
   "id": "b5c83ff0",
   "metadata": {},
   "outputs": [
    {
     "name": "stdout",
     "output_type": "stream",
     "text": [
      "[[4 8 4 4 1]\n",
      " [6 0 2 4 1]\n",
      " [9 2 5 2 6]\n",
      " [3 2 2 5 4]\n",
      " [0 7 0 7 6]]\n",
      "\n",
      "[[4 6 0 2 0]\n",
      " [8 4 2 1 1]\n",
      " [9 3 2 2 0]\n",
      " [4 4 2 5 4]\n",
      " [5 7 6 7 6]]\n"
     ]
    }
   ],
   "source": [
    "m = np.random.randint(0, 10, size=(5, 5))\n",
    "\n",
    "print(m)\n",
    "print()\n",
    "print(sort_diagonals(m))"
   ]
  }
 ],
 "metadata": {
  "interpreter": {
   "hash": "26de051ba29f2982a8de78e945f0abaf191376122a1563185a90213a26c5da77"
  },
  "kernelspec": {
   "display_name": "Python 3.10.4 64-bit",
   "language": "python",
   "name": "python3"
  },
  "language_info": {
   "codemirror_mode": {
    "name": "ipython",
    "version": 3
   },
   "file_extension": ".py",
   "mimetype": "text/x-python",
   "name": "python",
   "nbconvert_exporter": "python",
   "pygments_lexer": "ipython3",
   "version": "3.10.4"
  }
 },
 "nbformat": 4,
 "nbformat_minor": 5
}
