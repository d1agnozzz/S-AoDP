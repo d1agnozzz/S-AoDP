{
 "cells": [
  {
   "cell_type": "markdown",
   "id": "arctic-stocks",
   "metadata": {},
   "source": [
    "### Задание №1\n",
    "Массив A состоит из целых положительных чисел длин отрезков. Составьте из трех отрезков такой треугольник, чтобы его периметр был максимально возможным. Если невозможно составить треугольник с положительной площадью функция возвращает 0."
   ]
  },
  {
   "cell_type": "code",
   "execution_count": 2,
   "id": "caring-truck",
   "metadata": {
    "scrolled": false
   },
   "outputs": [
    {
     "name": "stdout",
     "output_type": "stream",
     "text": [
      "9\n",
      "14\n"
     ]
    }
   ],
   "source": [
    "def validate_triangle(sides):\n",
    "    for ind, side in enumerate(sides):\n",
    "        second_side = sides[(ind+1)%3]\n",
    "        third_side = sides[(ind+2)%3]\n",
    "        if side >= second_side + third_side:\n",
    "            return False\n",
    "    return True\n",
    "\n",
    "def longest_perimeter(lengths):\n",
    "    sorted_lens = sorted(lengths)\n",
    "    candidates = sorted_lens[-1:-4:-1]\n",
    "    sorted_lens = sorted_lens[:-3]\n",
    "    \n",
    "    if validate_triangle(candidates):\n",
    "        return sum(candidates)\n",
    "\n",
    "    while  len(sorted_lens) != 0:\n",
    "        if validate_triangle(candidates):\n",
    "            return sum(candidates)\n",
    "        maxi = candidates.index(max(candidates))\n",
    "        candidates[maxi] = sorted_lens[-1]\n",
    "    \n",
    "    return 0\n",
    "        \n",
    "\n",
    "print(longest_perimeter([2, 2, 3, 4]))\n",
    "print(longest_perimeter([1, 2, 3, 4, 5, 5, 10]))\n",
    "        "
   ]
  },
  {
   "cell_type": "markdown",
   "id": "maritime-conversation",
   "metadata": {},
   "source": [
    "### Задание №2\n",
    "Дан массив неотрицательных целых чисел nums. Расположите их в таком порядке, чтобы вместе они образовали максимально возможное число. Замечание: Результат может быть очень большим числом, поэтому представьте его как string, а не integer."
   ]
  },
  {
   "cell_type": "code",
   "execution_count": 3,
   "id": "alert-charm",
   "metadata": {
    "scrolled": false
   },
   "outputs": [
    {
     "name": "stdout",
     "output_type": "stream",
     "text": [
      "95534330\n",
      "0\n",
      "343234323\n"
     ]
    }
   ],
   "source": [
    "def greaterThan(a: int, b: int):\n",
    "    first = str(a)\n",
    "    second = str(b)\n",
    "\n",
    "    min_len = min(len(first), len(second))\n",
    "\n",
    "    for digit_ind in range(min_len):\n",
    "        digit_a = int(first[digit_ind])\n",
    "        digit_b = int(second[digit_ind])\n",
    "\n",
    "        if digit_a > digit_b:\n",
    "            return True\n",
    "        elif digit_a == digit_b:\n",
    "            if digit_ind == min_len - 1:\n",
    "                if len(first) == len(second):\n",
    "                    return False \n",
    "\n",
    "                if len(first) < len(second):\n",
    "                    return greaterThan(int(first), int(second[min_len:]))\n",
    "                else:\n",
    "                    return greaterThan(int(first[min_len:]), int(second))\n",
    "        else:\n",
    "            return False\n",
    "\n",
    "def insertion_sort(nums):\n",
    "    for i in range(1, len(nums)):\n",
    "        j = i - 1\n",
    "        while j >= 0 and not greaterThan(nums[j], nums[j+1]):\n",
    "            nums[j], nums[j+1] = nums[j+1], nums[j]\n",
    "            j -= 1\n",
    "\n",
    "def maximize(ints):\n",
    "    result = str()\n",
    "    insertion_sort(ints)\n",
    "\n",
    "    for num in ints:\n",
    "        result += str(num)\n",
    "    \n",
    "    result = result.lstrip('0')\n",
    "\n",
    "    return result if result != '' else '0'\n",
    "\n",
    "print(maximize([5, 3, 30, 34, 5, 9]))\n",
    "print(maximize([0, 0]))\n",
    "print(maximize([34323, 3432]))"
   ]
  },
  {
   "cell_type": "markdown",
   "id": "catholic-roots",
   "metadata": {},
   "source": [
    "### Задание №3\n",
    "Дана матрица mat размером m * n, значения целочисленные. Напишите функцию, сортирующую каждую диагональ матрицы по возрастанию и возвращающую получившуюся матрицу."
   ]
  },
  {
   "cell_type": "code",
   "execution_count": 11,
   "id": "0a412567",
   "metadata": {},
   "outputs": [],
   "source": [
    "def sort_diagonals_secondary(in_m):\n",
    "    m = in_m.copy()\n",
    "    for j in range(1, len(m)):\n",
    "        for i in range(0, len(m[0])):\n",
    "            ti = i\n",
    "            tj = j\n",
    "            while tj > 0 and ti < len(m[0])-1 and m[tj][ti] < m[tj-1][ti+1]:\n",
    "                m[tj][ti], m[tj-1][ti+1] = m[tj-1][ti+1], m[tj][ti]\n",
    "                tj -= 1\n",
    "                ti += 1\n",
    "    return m\n",
    "\n",
    "def sort_diagonals_main(in_m):\n",
    "    m = in_m.copy()\n",
    "    for j in range(1, len(m)):\n",
    "        for i in range(0, len(m[0])):\n",
    "            ti = i\n",
    "            tj = j\n",
    "            while tj > 0 and ti > 0 and m[tj][ti] < m[tj-1][ti-1]:\n",
    "                m[tj][ti], m[tj-1][ti-1] = m[tj-1][ti-1], m[tj][ti]\n",
    "                tj -= 1\n",
    "                ti -= 1\n",
    "    return m"
   ]
  },
  {
   "cell_type": "code",
   "execution_count": 20,
   "id": "b5c83ff0",
   "metadata": {},
   "outputs": [
    {
     "name": "stdout",
     "output_type": "stream",
     "text": [
      "[[-10  75  71 -61  24  50  32 -28  73 -85]\n",
      " [-77   2 -41  -6 -96 -98  43 -18 -72  57]\n",
      " [-36  55  64  39  56 -33 -86 -79 -16  82]\n",
      " [ 77 -53 -67 -91 -44  37 -65 -89 -87   8]\n",
      " [ 90  17 -40  -2 -18 -28  -6  96 -11  68]\n",
      " [-60  15 -33  60  29 -98 -87  99  65 -47]\n",
      " [-17 -27  79  34 -24 -10  70   5 -17  50]\n",
      " [-21  24 -63  25 -11  24  66 -50  85 -69]\n",
      " [ -7  79  52  36  66  43  -4 -25 -27 -90]\n",
      " [  1  17 -92  79  38  52  79 -66   0  47]]\n",
      "\n",
      "[[-10 -77 -36 -61 -53 -96 -98 -44 -86 -85]\n",
      " [ 75   2 -41  -6 -67 -91 -33 -18 -79 -98]\n",
      " [ 71  55  24 -60 -40 -33 -18 -72 -89 -92]\n",
      " [ 77  64  17 -17 -28  -7 -65 -24 -87 -11]\n",
      " [ 90  39  15 -27  24 -63 -16 -87   8   5]\n",
      " [ 50  32 -21  37 -28  -6 -11  24  38 -50]\n",
      " [ 56  -2  60   1  17 -10  66  43 -47 -25]\n",
      " [ 43  73  29  25  36  70  65 -17  50 -69]\n",
      " [ 79  34  52  82  79  66  -4  79 -66 -90]\n",
      " [ 79  57  96  99  68  52  85 -27   0  47]]\n"
     ]
    }
   ],
   "source": [
    "import numpy as np\n",
    "m = np.random.randint(-100, 100, size=(10, 10))\n",
    "\n",
    "print(m)\n",
    "print()\n",
    "print(sort_diagonals_secondary(m))"
   ]
  }
 ],
 "metadata": {
  "interpreter": {
   "hash": "26de051ba29f2982a8de78e945f0abaf191376122a1563185a90213a26c5da77"
  },
  "kernelspec": {
   "display_name": "Python 3.10.4 64-bit",
   "language": "python",
   "name": "python3"
  },
  "language_info": {
   "codemirror_mode": {
    "name": "ipython",
    "version": 3
   },
   "file_extension": ".py",
   "mimetype": "text/x-python",
   "name": "python",
   "nbconvert_exporter": "python",
   "pygments_lexer": "ipython3",
   "version": "3.10.4"
  }
 },
 "nbformat": 4,
 "nbformat_minor": 5
}
